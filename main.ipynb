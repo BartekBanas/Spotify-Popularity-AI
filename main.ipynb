{
 "cells": [
  {
   "cell_type": "markdown",
   "metadata": {},
   "source": [
    "# AI for estimating song's popularity"
   ]
  },
  {
   "cell_type": "code",
   "execution_count": 25,
   "metadata": {
    "ExecuteTime": {
     "start_time": "2023-04-18T22:24:17.077024Z",
     "end_time": "2023-04-18T22:24:17.097548Z"
    }
   },
   "outputs": [],
   "source": [
    "import pandas as pd\n",
    "import numpy as np\n",
    "import tensorflow as tf\n",
    "from tensorflow import keras\n",
    "from sklearn.model_selection import train_test_split\n",
    "import matplotlib.pyplot as plt"
   ]
  },
  {
   "cell_type": "code",
   "execution_count": 26,
   "metadata": {
    "ExecuteTime": {
     "start_time": "2023-04-18T22:24:17.092550Z",
     "end_time": "2023-04-18T22:24:17.730688Z"
    }
   },
   "outputs": [],
   "source": [
    "data = pd.read_csv(\"modified_data.csv\")\n",
    "#data = data.sample(frac=0.2)"
   ]
  },
  {
   "cell_type": "code",
   "execution_count": 27,
   "metadata": {
    "ExecuteTime": {
     "start_time": "2023-04-18T22:24:17.740686Z",
     "end_time": "2023-04-18T22:24:17.895955Z"
    }
   },
   "outputs": [],
   "source": [
    "columns = ['duration_ms', 'explicit', 'danceability', 'energy', 'key', 'loudness', 'mode',\n",
    "           'speechiness', 'acousticness', 'instrumentalness', 'liveness', 'valence', 'tempo', 'genre_id',\n",
    "           'time_signature', 'artists_id']\n",
    "\n",
    "amountOfFeatures = len(columns) * 2\n",
    "\n",
    "# Podział danych na zbiór treningowy i testowy\n",
    "train_data, test_data, train_labels, test_labels = train_test_split(\n",
    "    data[columns], data['popularity'], test_size=0.2)\n",
    "\n",
    "train_data = tf.convert_to_tensor(train_data, dtype=tf.float32)\n",
    "test_data = tf.convert_to_tensor(test_data, dtype=tf.float32)\n",
    "train_labels = tf.convert_to_tensor(train_labels, dtype=tf.float32)\n",
    "test_labels = tf.convert_to_tensor(test_labels, dtype=tf.float32)"
   ]
  },
  {
   "cell_type": "code",
   "execution_count": 28,
   "outputs": [],
   "source": [
    "# Normalization\n",
    "\n",
    "mean = train_data.numpy().mean(axis=0)\n",
    "std = train_data.numpy().std(axis=0)\n",
    "train_data = (train_data - mean) / std\n",
    "test_data = (test_data - mean) / std"
   ],
   "metadata": {
    "collapsed": false,
    "ExecuteTime": {
     "start_time": "2023-04-18T22:24:17.899990Z",
     "end_time": "2023-04-18T22:24:17.940947Z"
    }
   }
  },
  {
   "cell_type": "code",
   "execution_count": 29,
   "outputs": [],
   "source": [
    "model = tf.keras.Sequential([\n",
    "    tf.keras.layers.Dense(amountOfFeatures + 1, activation='relu', input_shape=[len(columns)]),\n",
    "    tf.keras.layers.Dense(amountOfFeatures, activation='relu'),\n",
    "    tf.keras.layers.Dense(amountOfFeatures, activation='relu'),\n",
    "    tf.keras.layers.Dense(amountOfFeatures, activation='relu'),\n",
    "    tf.keras.layers.Dense(amountOfFeatures, activation='relu'),\n",
    "    tf.keras.layers.Dense(amountOfFeatures, activation='relu'),\n",
    "    tf.keras.layers.Dense(amountOfFeatures, activation='relu'),\n",
    "    tf.keras.layers.Dense(amountOfFeatures, activation='relu'),\n",
    "    tf.keras.layers.Dense(amountOfFeatures, activation='relu'),\n",
    "    tf.keras.layers.Dense(amountOfFeatures, activation='relu'),\n",
    "    tf.keras.layers.Dense(amountOfFeatures, activation='relu'),\n",
    "    tf.keras.layers.Dense(amountOfFeatures, activation='relu'),\n",
    "    tf.keras.layers.Dense(amountOfFeatures, activation='relu'),\n",
    "    tf.keras.layers.Dense(amountOfFeatures, activation='relu'),\n",
    "    tf.keras.layers.Dense(amountOfFeatures, activation='relu'),\n",
    "    tf.keras.layers.Dense(amountOfFeatures, activation='relu'),\n",
    "    tf.keras.layers.Dense(amountOfFeatures, activation='relu'),\n",
    "    tf.keras.layers.Dense(amountOfFeatures, activation='relu'),\n",
    "    tf.keras.layers.Dense(amountOfFeatures, activation='relu'),\n",
    "    tf.keras.layers.Dense(amountOfFeatures, activation='relu'),\n",
    "    tf.keras.layers.Dense(amountOfFeatures, activation='relu'),\n",
    "    tf.keras.layers.Dense(amountOfFeatures / 2, activation='relu'),\n",
    "    tf.keras.layers.Dense(1)\n",
    "])\n",
    "\n",
    "model.compile(loss='mean_squared_error',\n",
    "              optimizer=tf.keras.optimizers.RMSprop(0.001),\n",
    "              metrics=['mae', 'mse'])"
   ],
   "metadata": {
    "collapsed": false,
    "ExecuteTime": {
     "start_time": "2023-04-18T22:24:17.949953Z",
     "end_time": "2023-04-18T22:24:18.225405Z"
    }
   }
  },
  {
   "cell_type": "code",
   "execution_count": 30,
   "outputs": [],
   "source": [
    "# Trenowanie modelu\n",
    "history = model.fit(train_data, train_labels, epochs=30, validation_split=0.2, verbose=0)"
   ],
   "metadata": {
    "collapsed": false,
    "ExecuteTime": {
     "start_time": "2023-04-18T22:24:18.224440Z",
     "end_time": "2023-04-18T22:30:25.718053Z"
    }
   }
  },
  {
   "cell_type": "code",
   "execution_count": 31,
   "outputs": [],
   "source": [
    "test_results = model.evaluate(test_data, test_labels, verbose=0)\n",
    "test_mae = test_results[1]"
   ],
   "metadata": {
    "collapsed": false,
    "ExecuteTime": {
     "start_time": "2023-04-18T22:30:25.721051Z",
     "end_time": "2023-04-18T22:30:28.419129Z"
    }
   }
  },
  {
   "cell_type": "code",
   "execution_count": 37,
   "outputs": [
    {
     "name": "stdout",
     "output_type": "stream",
     "text": [
      "Mean Absolute Error: 16.336591720581055\n"
     ]
    },
    {
     "data": {
      "text/plain": "<Figure size 640x480 with 1 Axes>",
      "image/png": "[encoded data removed]"
     },
     "metadata": {},
     "output_type": "display_data"
    }
   ],
   "source": [
    "# Wykres\n",
    "plt.plot(history.history['mae'])\n",
    "plt.plot(history.history['val_mae'])\n",
    "plt.title('Mean Absolute Error')\n",
    "plt.ylabel('MAE')\n",
    "plt.xlabel('Epoch')\n",
    "plt.legend(['Training', 'Validation'], loc='upper right')\n",
    "plt.ylim(top=30)\n",
    "plt.ylim(bottom=0)\n",
    "print(\"Mean Absolute Error:\", test_mae)\n",
    "plt.show()"
   ],
   "metadata": {
    "collapsed": false,
    "ExecuteTime": {
     "start_time": "2023-04-18T22:35:09.272118Z",
     "end_time": "2023-04-18T22:35:09.455687Z"
    }
   }
  }
 ],
 "metadata": {
  "kernelspec": {
   "display_name": "Python 3 (ipykernel)",
   "language": "python",
   "name": "python3"
  },
  "language_info": {
   "codemirror_mode": {
    "name": "ipython",
    "version": 3
   },
   "file_extension": ".py",
   "mimetype": "text/x-python",
   "name": "python",
   "nbconvert_exporter": "python",
   "pygments_lexer": "ipython3",
   "version": "3.10.10"
  }
 },
 "nbformat": 4,
 "nbformat_minor": 1
}
