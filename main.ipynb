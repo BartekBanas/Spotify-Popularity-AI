{
 "cells": [
  {
   "cell_type": "markdown",
   "metadata": {},
   "source": [
    "# AI for estimating song's popularity"
   ]
  },
  {
   "cell_type": "code",
   "execution_count": 17,
   "metadata": {
    "ExecuteTime": {
     "start_time": "2023-04-18T22:17:22.608861Z",
     "end_time": "2023-04-18T22:17:22.630319Z"
    }
   },
   "outputs": [],
   "source": [
    "import pandas as pd\n",
    "import numpy as np\n",
    "import tensorflow as tf\n",
    "from tensorflow import keras\n",
    "from sklearn.model_selection import train_test_split\n",
    "import matplotlib.pyplot as plt"
   ]
  },
  {
   "cell_type": "code",
   "execution_count": 18,
   "metadata": {
    "ExecuteTime": {
     "start_time": "2023-04-18T22:17:22.623082Z",
     "end_time": "2023-04-18T22:17:23.153089Z"
    }
   },
   "outputs": [],
   "source": [
    "data = pd.read_csv(\"dataset.csv\")\n",
    "#data = data.sample(frac=0.2)"
   ]
  },
  {
   "cell_type": "code",
   "execution_count": 19,
   "metadata": {
    "ExecuteTime": {
     "start_time": "2023-04-18T22:17:23.157090Z",
     "end_time": "2023-04-18T22:17:23.295342Z"
    }
   },
   "outputs": [],
   "source": [
    "columns = ['duration_ms', 'explicit', 'danceability', 'energy', 'key', 'loudness', 'mode',\n",
    "           'speechiness', 'acousticness', 'instrumentalness', 'liveness', 'valence', 'tempo', 'genre_id',\n",
    "           'time_signature']\n",
    "\n",
    "amountOfFeatures = len(columns) * 2\n",
    "\n",
    "# Podział danych na zbiór treningowy i testowy\n",
    "train_data, test_data, train_labels, test_labels = train_test_split(\n",
    "    data[columns], data['popularity'], test_size=0.2)\n",
    "\n",
    "train_data = tf.convert_to_tensor(train_data, dtype=tf.float32)\n",
    "test_data = tf.convert_to_tensor(test_data, dtype=tf.float32)\n",
    "train_labels = tf.convert_to_tensor(train_labels, dtype=tf.float32)\n",
    "test_labels = tf.convert_to_tensor(test_labels, dtype=tf.float32)"
   ]
  },
  {
   "cell_type": "code",
   "execution_count": 20,
   "outputs": [],
   "source": [
    "# Normalization\n",
    "\n",
    "mean = train_data.numpy().mean(axis=0)\n",
    "std = train_data.numpy().std(axis=0)\n",
    "train_data = (train_data - mean) / std\n",
    "test_data = (test_data - mean) / std"
   ],
   "metadata": {
    "collapsed": false,
    "ExecuteTime": {
     "start_time": "2023-04-18T22:17:23.300069Z",
     "end_time": "2023-04-18T22:17:23.335244Z"
    }
   }
  },
  {
   "cell_type": "code",
   "execution_count": 21,
   "outputs": [],
   "source": [
    "model = tf.keras.Sequential([\n",
    "    tf.keras.layers.Dense(amountOfFeatures + 1, activation='relu', input_shape=[len(columns)]),\n",
    "    tf.keras.layers.Dense(amountOfFeatures, activation='relu'),\n",
    "    tf.keras.layers.Dense(amountOfFeatures, activation='relu'),\n",
    "    tf.keras.layers.Dense(amountOfFeatures, activation='relu'),\n",
    "    tf.keras.layers.Dense(amountOfFeatures, activation='relu'),\n",
    "    tf.keras.layers.Dense(amountOfFeatures, activation='relu'),\n",
    "    tf.keras.layers.Dense(amountOfFeatures, activation='relu'),\n",
    "    tf.keras.layers.Dense(amountOfFeatures, activation='relu'),\n",
    "    tf.keras.layers.Dense(amountOfFeatures, activation='relu'),\n",
    "    tf.keras.layers.Dense(amountOfFeatures, activation='relu'),\n",
    "    tf.keras.layers.Dense(amountOfFeatures, activation='relu'),\n",
    "    tf.keras.layers.Dense(amountOfFeatures, activation='relu'),\n",
    "    tf.keras.layers.Dense(amountOfFeatures, activation='relu'),\n",
    "    tf.keras.layers.Dense(amountOfFeatures, activation='relu'),\n",
    "    tf.keras.layers.Dense(amountOfFeatures, activation='relu'),\n",
    "    tf.keras.layers.Dense(amountOfFeatures, activation='relu'),\n",
    "    tf.keras.layers.Dense(amountOfFeatures, activation='relu'),\n",
    "    tf.keras.layers.Dense(amountOfFeatures, activation='relu'),\n",
    "    tf.keras.layers.Dense(amountOfFeatures, activation='relu'),\n",
    "    tf.keras.layers.Dense(amountOfFeatures, activation='relu'),\n",
    "    tf.keras.layers.Dense(amountOfFeatures, activation='relu'),\n",
    "    tf.keras.layers.Dense(amountOfFeatures / 2, activation='relu'),\n",
    "    tf.keras.layers.Dense(1)\n",
    "])\n",
    "\n",
    "model.compile(loss='mean_squared_error',\n",
    "              optimizer=tf.keras.optimizers.RMSprop(0.001),\n",
    "              metrics=['mae', 'mse'])"
   ],
   "metadata": {
    "collapsed": false,
    "ExecuteTime": {
     "start_time": "2023-04-18T22:17:23.332983Z",
     "end_time": "2023-04-18T22:17:23.556330Z"
    }
   }
  },
  {
   "cell_type": "code",
   "execution_count": null,
   "outputs": [],
   "source": [
    "# Trenowanie modelu\n",
    "history = model.fit(train_data, train_labels, epochs=30, validation_split=0.2, verbose=0)"
   ],
   "metadata": {
    "collapsed": false,
    "ExecuteTime": {
     "start_time": "2023-04-18T22:15:30.498637Z",
     "end_time": "2023-04-18T22:16:39.816074Z"
    },
    "pycharm": {
     "is_executing": true
    }
   }
  },
  {
   "cell_type": "code",
   "execution_count": null,
   "outputs": [],
   "source": [
    "test_results = model.evaluate(test_data, test_labels, verbose=0)\n",
    "test_mae = test_results[1]"
   ],
   "metadata": {
    "collapsed": false,
    "ExecuteTime": {
     "start_time": "2023-04-18T22:16:39.819076Z",
     "end_time": "2023-04-18T22:16:40.669056Z"
    },
    "pycharm": {
     "is_executing": true
    }
   }
  },
  {
   "cell_type": "code",
   "execution_count": null,
   "outputs": [],
   "source": [
    "# Wykres\n",
    "plt.plot(history.history['mse'])\n",
    "plt.plot(history.history['val_mse'])\n",
    "plt.title('Mean Squared Error')\n",
    "plt.ylabel('MSE')\n",
    "plt.xlabel('Epoch')\n",
    "plt.legend(['Training', 'Validation'], loc='upper right')\n",
    "plt.ylim(top=1000)\n",
    "plt.ylim(bottom=0)\n",
    "print(\"Mean Absolute Error:\", test_mae)\n",
    "plt.show()"
   ],
   "metadata": {
    "collapsed": false,
    "ExecuteTime": {
     "start_time": "2023-04-18T22:16:40.675057Z",
     "end_time": "2023-04-18T22:16:41.074958Z"
    },
    "pycharm": {
     "is_executing": true
    }
   }
  }
 ],
 "metadata": {
  "kernelspec": {
   "display_name": "Python 3 (ipykernel)",
   "language": "python",
   "name": "python3"
  },
  "language_info": {
   "codemirror_mode": {
    "name": "ipython",
    "version": 3
   },
   "file_extension": ".py",
   "mimetype": "text/x-python",
   "name": "python",
   "nbconvert_exporter": "python",
   "pygments_lexer": "ipython3",
   "version": "3.10.10"
  }
 },
 "nbformat": 4,
 "nbformat_minor": 1
}
