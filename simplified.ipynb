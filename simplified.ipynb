{
 "cells": [
  {
   "cell_type": "markdown",
   "metadata": {},
   "source": [
    "# AI for estimating song's popularity"
   ]
  },
  {
   "cell_type": "code",
   "execution_count": 1,
   "metadata": {
    "ExecuteTime": {
     "end_time": "2023-05-30T22:05:43.714619300Z",
     "start_time": "2023-05-30T22:05:38.741658200Z"
    }
   },
   "outputs": [],
   "source": [
    "import pandas as pd\n",
    "import numpy as np\n",
    "import tensorflow as tf\n",
    "from tensorflow import keras\n",
    "from sklearn.model_selection import train_test_split\n",
    "import matplotlib.pyplot as plt"
   ]
  },
  {
   "cell_type": "code",
   "execution_count": 2,
   "metadata": {
    "ExecuteTime": {
     "end_time": "2023-05-30T22:05:44.177994500Z",
     "start_time": "2023-05-30T22:05:43.720894500Z"
    }
   },
   "outputs": [],
   "source": [
    "data = pd.read_csv(\"modified_data.csv\")\n",
    "data = data.sample(frac=0.2)"
   ]
  },
  {
   "cell_type": "code",
   "execution_count": 3,
   "outputs": [
    {
     "data": {
      "text/plain": "          Unnamed: 0    popularity   duration_ms  danceability        energy  \\\ncount   22800.000000  22800.000000  2.280000e+04  22800.000000  22800.000000   \nmean    57080.413114     33.105263  2.279625e+05      0.566023      0.641946   \nstd     33019.796243     22.402764  1.084501e+05      0.172989      0.251022   \nmin         4.000000      0.000000  1.782600e+04      0.000000      0.000000   \n25%     28360.000000     17.000000  1.738930e+05      0.455000      0.472000   \n50%     57057.500000     34.000000  2.124330e+05      0.579000      0.684000   \n75%     85881.000000     50.000000  2.606675e+05      0.694000      0.854000   \nmax    113997.000000     97.000000  4.789026e+06      0.985000      1.000000   \n\n                key      loudness          mode   speechiness  acousticness  \\\ncount  22800.000000  22800.000000  22800.000000  22800.000000  22800.000000   \nmean       5.335088     -8.241254      0.633553      0.084822      0.315771   \nstd        3.570313      4.979175      0.481844      0.105748      0.333138   \nmin        0.000000    -43.714000      0.000000      0.000000      0.000000   \n25%        2.000000     -9.985250      0.000000      0.035800      0.016400   \n50%        5.000000     -6.980000      1.000000      0.049100      0.169500   \n75%        9.000000     -5.024000      1.000000      0.084700      0.601000   \nmax       11.000000      1.864000      1.000000      0.962000      0.996000   \n\n       instrumentalness      liveness       valence         tempo  \\\ncount      22800.000000  22800.000000  22800.000000  22800.000000   \nmean           0.153864      0.214184      0.472489    122.323905   \nstd            0.306730      0.192387      0.258311     29.917650   \nmin            0.000000      0.000000      0.000000      0.000000   \n25%            0.000000      0.098100      0.257000     99.004000   \n50%            0.000043      0.132000      0.463000    122.134500   \n75%            0.049725      0.272000      0.679000    140.411500   \nmax            0.999000      1.000000      0.988000    220.084000   \n\n       time_signature      genre_id    artists_id  \ncount    22800.000000  22800.000000  2.280000e+04  \nmean         3.907281     56.583114  4.996633e+07  \nstd          0.427055     33.019081  2.871457e+07  \nmin          0.000000      0.000000  2.403800e+04  \n25%          4.000000     28.000000  2.519808e+07  \n50%          4.000000     57.000000  4.928851e+07  \n75%          4.000000     85.000000  7.560523e+07  \nmax          5.000000    113.000000  9.999973e+07  ",
      "text/html": "<div>\n<style scoped>\n    .dataframe tbody tr th:only-of-type {\n        vertical-align: middle;\n    }\n\n    .dataframe tbody tr th {\n        vertical-align: top;\n    }\n\n    .dataframe thead th {\n        text-align: right;\n    }\n</style>\n<table border=\"1\" class=\"dataframe\">\n  <thead>\n    <tr style=\"text-align: right;\">\n      <th></th>\n      <th>Unnamed: 0</th>\n      <th>popularity</th>\n      <th>duration_ms</th>\n      <th>danceability</th>\n      <th>energy</th>\n      <th>key</th>\n      <th>loudness</th>\n      <th>mode</th>\n      <th>speechiness</th>\n      <th>acousticness</th>\n      <th>instrumentalness</th>\n      <th>liveness</th>\n      <th>valence</th>\n      <th>tempo</th>\n      <th>time_signature</th>\n      <th>genre_id</th>\n      <th>artists_id</th>\n    </tr>\n  </thead>\n  <tbody>\n    <tr>\n      <th>count</th>\n      <td>22800.000000</td>\n      <td>22800.000000</td>\n      <td>2.280000e+04</td>\n      <td>22800.000000</td>\n      <td>22800.000000</td>\n      <td>22800.000000</td>\n      <td>22800.000000</td>\n      <td>22800.000000</td>\n      <td>22800.000000</td>\n      <td>22800.000000</td>\n      <td>22800.000000</td>\n      <td>22800.000000</td>\n      <td>22800.000000</td>\n      <td>22800.000000</td>\n      <td>22800.000000</td>\n      <td>22800.000000</td>\n      <td>2.280000e+04</td>\n    </tr>\n    <tr>\n      <th>mean</th>\n      <td>57080.413114</td>\n      <td>33.105263</td>\n      <td>2.279625e+05</td>\n      <td>0.566023</td>\n      <td>0.641946</td>\n      <td>5.335088</td>\n      <td>-8.241254</td>\n      <td>0.633553</td>\n      <td>0.084822</td>\n      <td>0.315771</td>\n      <td>0.153864</td>\n      <td>0.214184</td>\n      <td>0.472489</td>\n      <td>122.323905</td>\n      <td>3.907281</td>\n      <td>56.583114</td>\n      <td>4.996633e+07</td>\n    </tr>\n    <tr>\n      <th>std</th>\n      <td>33019.796243</td>\n      <td>22.402764</td>\n      <td>1.084501e+05</td>\n      <td>0.172989</td>\n      <td>0.251022</td>\n      <td>3.570313</td>\n      <td>4.979175</td>\n      <td>0.481844</td>\n      <td>0.105748</td>\n      <td>0.333138</td>\n      <td>0.306730</td>\n      <td>0.192387</td>\n      <td>0.258311</td>\n      <td>29.917650</td>\n      <td>0.427055</td>\n      <td>33.019081</td>\n      <td>2.871457e+07</td>\n    </tr>\n    <tr>\n      <th>min</th>\n      <td>4.000000</td>\n      <td>0.000000</td>\n      <td>1.782600e+04</td>\n      <td>0.000000</td>\n      <td>0.000000</td>\n      <td>0.000000</td>\n      <td>-43.714000</td>\n      <td>0.000000</td>\n      <td>0.000000</td>\n      <td>0.000000</td>\n      <td>0.000000</td>\n      <td>0.000000</td>\n      <td>0.000000</td>\n      <td>0.000000</td>\n      <td>0.000000</td>\n      <td>0.000000</td>\n      <td>2.403800e+04</td>\n    </tr>\n    <tr>\n      <th>25%</th>\n      <td>28360.000000</td>\n      <td>17.000000</td>\n      <td>1.738930e+05</td>\n      <td>0.455000</td>\n      <td>0.472000</td>\n      <td>2.000000</td>\n      <td>-9.985250</td>\n      <td>0.000000</td>\n      <td>0.035800</td>\n      <td>0.016400</td>\n      <td>0.000000</td>\n      <td>0.098100</td>\n      <td>0.257000</td>\n      <td>99.004000</td>\n      <td>4.000000</td>\n      <td>28.000000</td>\n      <td>2.519808e+07</td>\n    </tr>\n    <tr>\n      <th>50%</th>\n      <td>57057.500000</td>\n      <td>34.000000</td>\n      <td>2.124330e+05</td>\n      <td>0.579000</td>\n      <td>0.684000</td>\n      <td>5.000000</td>\n      <td>-6.980000</td>\n      <td>1.000000</td>\n      <td>0.049100</td>\n      <td>0.169500</td>\n      <td>0.000043</td>\n      <td>0.132000</td>\n      <td>0.463000</td>\n      <td>122.134500</td>\n      <td>4.000000</td>\n      <td>57.000000</td>\n      <td>4.928851e+07</td>\n    </tr>\n    <tr>\n      <th>75%</th>\n      <td>85881.000000</td>\n      <td>50.000000</td>\n      <td>2.606675e+05</td>\n      <td>0.694000</td>\n      <td>0.854000</td>\n      <td>9.000000</td>\n      <td>-5.024000</td>\n      <td>1.000000</td>\n      <td>0.084700</td>\n      <td>0.601000</td>\n      <td>0.049725</td>\n      <td>0.272000</td>\n      <td>0.679000</td>\n      <td>140.411500</td>\n      <td>4.000000</td>\n      <td>85.000000</td>\n      <td>7.560523e+07</td>\n    </tr>\n    <tr>\n      <th>max</th>\n      <td>113997.000000</td>\n      <td>97.000000</td>\n      <td>4.789026e+06</td>\n      <td>0.985000</td>\n      <td>1.000000</td>\n      <td>11.000000</td>\n      <td>1.864000</td>\n      <td>1.000000</td>\n      <td>0.962000</td>\n      <td>0.996000</td>\n      <td>0.999000</td>\n      <td>1.000000</td>\n      <td>0.988000</td>\n      <td>220.084000</td>\n      <td>5.000000</td>\n      <td>113.000000</td>\n      <td>9.999973e+07</td>\n    </tr>\n  </tbody>\n</table>\n</div>"
     },
     "execution_count": 3,
     "metadata": {},
     "output_type": "execute_result"
    }
   ],
   "source": [
    "data.describe()"
   ],
   "metadata": {
    "collapsed": false,
    "ExecuteTime": {
     "end_time": "2023-05-30T22:05:44.239365900Z",
     "start_time": "2023-05-30T22:05:44.179992Z"
    }
   }
  },
  {
   "cell_type": "code",
   "execution_count": 4,
   "metadata": {
    "ExecuteTime": {
     "end_time": "2023-05-30T22:05:44.360494200Z",
     "start_time": "2023-05-30T22:05:44.247742300Z"
    }
   },
   "outputs": [],
   "source": [
    "columns = ['duration_ms', 'explicit', 'danceability', 'energy', 'key', 'loudness', 'mode',\n",
    "           'speechiness', 'acousticness', 'instrumentalness', 'liveness', 'valence', 'tempo', 'genre_id',\n",
    "           'time_signature', 'artists_id']\n",
    "\n",
    "layerThiccness = len(columns) * 2\n",
    "\n",
    "# Podział danych na zbiór treningowy i testowy\n",
    "train_data, test_data, train_labels, test_labels = train_test_split(\n",
    "    data[columns], data['popularity'], test_size=0.2)\n",
    "\n",
    "train_data = tf.convert_to_tensor(train_data, dtype=tf.float32)\n",
    "test_data = tf.convert_to_tensor(test_data, dtype=tf.float32)\n",
    "train_labels = tf.convert_to_tensor(train_labels, dtype=tf.float32)\n",
    "test_labels = tf.convert_to_tensor(test_labels, dtype=tf.float32)"
   ]
  },
  {
   "cell_type": "code",
   "execution_count": 5,
   "outputs": [],
   "source": [
    "# Normalization\n",
    "\n",
    "mean = train_data.numpy().mean(axis=0)\n",
    "std = train_data.numpy().std(axis=0)\n",
    "train_data = (train_data - mean) / std\n",
    "test_data = (test_data - mean) / std"
   ],
   "metadata": {
    "collapsed": false,
    "ExecuteTime": {
     "end_time": "2023-05-30T22:05:44.361460500Z",
     "start_time": "2023-05-30T22:05:44.307144600Z"
    }
   }
  },
  {
   "cell_type": "code",
   "execution_count": 6,
   "outputs": [],
   "source": [
    "model = tf.keras.Sequential([\n",
    "    tf.keras.layers.Dense(layerThiccness + 1, activation='relu', input_shape=[len(columns)]),\n",
    "    tf.keras.layers.Dense(layerThiccness, activation='relu'),\n",
    "    tf.keras.layers.Dense(layerThiccness / 2, activation='relu'),\n",
    "    tf.keras.layers.Dense(1)\n",
    "])\n",
    "\n",
    "model.compile(loss='mean_squared_error',\n",
    "              optimizer=tf.keras.optimizers.RMSprop(0.001),\n",
    "              metrics=['mae', 'mse'])"
   ],
   "metadata": {
    "collapsed": false,
    "ExecuteTime": {
     "end_time": "2023-05-30T22:05:44.439303300Z",
     "start_time": "2023-05-30T22:05:44.348101500Z"
    }
   }
  },
  {
   "cell_type": "code",
   "execution_count": 7,
   "outputs": [],
   "source": [
    "\n",
    "history = model.fit(train_data, train_labels, epochs=10, validation_split=0.2, verbose=0)"
   ],
   "metadata": {
    "collapsed": false,
    "ExecuteTime": {
     "end_time": "2023-05-30T22:05:56.295309200Z",
     "start_time": "2023-05-30T22:05:44.441302Z"
    }
   }
  },
  {
   "cell_type": "code",
   "execution_count": 8,
   "outputs": [],
   "source": [
    "test_results = model.evaluate(test_data, test_labels, verbose=0)\n",
    "test_mae = test_results[1]\n",
    "\n",
    "train_results = model.evaluate(train_data, train_labels, verbose=0)\n",
    "train_mae = train_results[1]"
   ],
   "metadata": {
    "collapsed": false,
    "ExecuteTime": {
     "end_time": "2023-05-30T22:05:57.962310900Z",
     "start_time": "2023-05-30T22:05:56.300310300Z"
    }
   }
  },
  {
   "cell_type": "code",
   "execution_count": 9,
   "outputs": [
    {
     "name": "stdout",
     "output_type": "stream",
     "text": [
      "Mean Absolute Error (Test): 17.700735092163086\n",
      "Mean Absolute Error (Train): 17.79060173034668\n"
     ]
    },
    {
     "data": {
      "text/plain": "<Figure size 640x480 with 1 Axes>",
      "image/png": "[encoded data removed]"
     },
     "metadata": {},
     "output_type": "display_data"
    }
   ],
   "source": [
    "# Wykres\n",
    "plt.plot(history.history['mae'])\n",
    "plt.plot(history.history['val_mae'])\n",
    "plt.title('Mean Absolute Error')\n",
    "plt.ylabel('MAE')\n",
    "plt.xlabel('Epoch')\n",
    "plt.legend(['Training', 'Validation'], loc='upper right')\n",
    "plt.ylim(top=30)\n",
    "plt.ylim(bottom=0)\n",
    "print(\"Mean Absolute Error (Test):\", test_mae)\n",
    "print(\"Mean Absolute Error (Train):\", train_mae)\n",
    "plt.show()"
   ],
   "metadata": {
    "collapsed": false,
    "ExecuteTime": {
     "end_time": "2023-05-30T22:05:58.393570800Z",
     "start_time": "2023-05-30T22:05:57.970311900Z"
    }
   }
  }
 ],
 "metadata": {
  "kernelspec": {
   "display_name": "Python 3 (ipykernel)",
   "language": "python",
   "name": "python3"
  },
  "language_info": {
   "codemirror_mode": {
    "name": "ipython",
    "version": 3
   },
   "file_extension": ".py",
   "mimetype": "text/x-python",
   "name": "python",
   "nbconvert_exporter": "python",
   "pygments_lexer": "ipython3",
   "version": "3.10.10"
  }
 },
 "nbformat": 4,
 "nbformat_minor": 1
}
