{
 "cells": [
  {
   "cell_type": "code",
   "execution_count": 1,
   "metadata": {
    "collapsed": true,
    "ExecuteTime": {
     "start_time": "2023-04-28T19:01:15.242006Z",
     "end_time": "2023-04-28T19:01:15.974760Z"
    }
   },
   "outputs": [],
   "source": [
    "import pandas as pd\n",
    "import numpy as np\n",
    "from sklearn import preprocessing\n",
    "import matplotlib.pyplot as plt\n",
    "from matplotlib.image import imread\n",
    "import seaborn as sns\n",
    "from sklearn.cluster import KMeans, SpectralClustering\n",
    "from sklearn.preprocessing import StandardScaler\n",
    "from sklearn.metrics import silhouette_samples, silhouette_score"
   ]
  },
  {
   "cell_type": "code",
   "execution_count": 2,
   "outputs": [
    {
     "name": "stdout",
     "output_type": "stream",
     "text": [
      "<class 'pandas.core.frame.DataFrame'>\n",
      "RangeIndex: 114000 entries, 0 to 113999\n",
      "Data columns (total 22 columns):\n",
      " #   Column            Non-Null Count   Dtype  \n",
      "---  ------            --------------   -----  \n",
      " 0   Unnamed: 0        114000 non-null  int64  \n",
      " 1   track_id          114000 non-null  object \n",
      " 2   artists           113999 non-null  object \n",
      " 3   album_name        113999 non-null  object \n",
      " 4   track_name        113999 non-null  object \n",
      " 5   popularity        114000 non-null  int64  \n",
      " 6   duration_ms       114000 non-null  int64  \n",
      " 7   explicit          114000 non-null  bool   \n",
      " 8   danceability      114000 non-null  float64\n",
      " 9   energy            114000 non-null  float64\n",
      " 10  key               114000 non-null  int64  \n",
      " 11  loudness          114000 non-null  float64\n",
      " 12  mode              114000 non-null  int64  \n",
      " 13  speechiness       114000 non-null  float64\n",
      " 14  acousticness      114000 non-null  float64\n",
      " 15  instrumentalness  114000 non-null  float64\n",
      " 16  liveness          114000 non-null  float64\n",
      " 17  valence           114000 non-null  float64\n",
      " 18  tempo             114000 non-null  float64\n",
      " 19  time_signature    114000 non-null  int64  \n",
      " 20  track_genre       114000 non-null  object \n",
      " 21  genre_id          114000 non-null  int64  \n",
      "dtypes: bool(1), float64(9), int64(7), object(5)\n",
      "memory usage: 18.4+ MB\n"
     ]
    }
   ],
   "source": [
    "data = pd.read_csv('dataset.csv')\n",
    "data.info()"
   ],
   "metadata": {
    "collapsed": false,
    "ExecuteTime": {
     "start_time": "2023-04-28T19:01:15.976739Z",
     "end_time": "2023-04-28T19:01:16.521884Z"
    }
   }
  },
  {
   "cell_type": "code",
   "execution_count": 3,
   "outputs": [
    {
     "data": {
      "text/plain": "Unnamed: 0          0\ntrack_id            0\nartists             1\nalbum_name          1\ntrack_name          1\npopularity          0\nduration_ms         0\nexplicit            0\ndanceability        0\nenergy              0\nkey                 0\nloudness            0\nmode                0\nspeechiness         0\nacousticness        0\ninstrumentalness    0\nliveness            0\nvalence             0\ntempo               0\ntime_signature      0\ntrack_genre         0\ngenre_id            0\ndtype: int64"
     },
     "execution_count": 3,
     "metadata": {},
     "output_type": "execute_result"
    }
   ],
   "source": [
    "data.isnull().sum()"
   ],
   "metadata": {
    "collapsed": false,
    "ExecuteTime": {
     "start_time": "2023-04-28T19:01:16.527149Z",
     "end_time": "2023-04-28T19:01:16.615622Z"
    }
   }
  },
  {
   "cell_type": "code",
   "execution_count": 4,
   "outputs": [],
   "source": [
    "data = data.dropna()"
   ],
   "metadata": {
    "collapsed": false,
    "ExecuteTime": {
     "start_time": "2023-04-28T19:01:16.620638Z",
     "end_time": "2023-04-28T19:01:16.723796Z"
    }
   }
  },
  {
   "cell_type": "code",
   "execution_count": 5,
   "outputs": [
    {
     "data": {
      "text/plain": "          Unnamed: 0     popularity   duration_ms   danceability  \\\ncount  113999.000000  113999.000000  1.139990e+05  113999.000000   \nmean    56999.421925      33.238827  2.280312e+05       0.566801   \nstd     32909.243463      22.304959  1.072961e+05       0.173543   \nmin         0.000000       0.000000  8.586000e+03       0.000000   \n25%     28499.500000      17.000000  1.740660e+05       0.456000   \n50%     56999.000000      35.000000  2.129060e+05       0.580000   \n75%     85499.500000      50.000000  2.615060e+05       0.695000   \nmax    113999.000000     100.000000  5.237295e+06       0.985000   \n\n              energy            key       loudness           mode  \\\ncount  113999.000000  113999.000000  113999.000000  113999.000000   \nmean        0.641383       5.309126      -8.258950       0.637558   \nstd         0.251530       3.559999       5.029357       0.480708   \nmin         0.000000       0.000000     -49.531000       0.000000   \n25%         0.472000       2.000000     -10.013000       0.000000   \n50%         0.685000       5.000000      -7.004000       1.000000   \n75%         0.854000       8.000000      -5.003000       1.000000   \nmax         1.000000      11.000000       4.532000       1.000000   \n\n         speechiness   acousticness  instrumentalness       liveness  \\\ncount  113999.000000  113999.000000     113999.000000  113999.000000   \nmean        0.084652       0.314907          0.156051       0.213554   \nstd         0.105733       0.332522          0.309556       0.190378   \nmin         0.000000       0.000000          0.000000       0.000000   \n25%         0.035900       0.016900          0.000000       0.098000   \n50%         0.048900       0.169000          0.000042       0.132000   \n75%         0.084500       0.597500          0.049000       0.273000   \nmax         0.965000       0.996000          1.000000       1.000000   \n\n             valence          tempo  time_signature       genre_id  \ncount  113999.000000  113999.000000   113999.000000  113999.000000  \nmean        0.474066     122.147695        3.904034      56.499925  \nstd         0.259261      29.978290        0.432623      32.907978  \nmin         0.000000       0.000000        0.000000       0.000000  \n25%         0.260000      99.218500        4.000000      28.000000  \n50%         0.464000     122.017000        4.000000      56.000000  \n75%         0.683000     140.071000        4.000000      85.000000  \nmax         0.995000     243.372000        5.000000     113.000000  ",
      "text/html": "<div>\n<style scoped>\n    .dataframe tbody tr th:only-of-type {\n        vertical-align: middle;\n    }\n\n    .dataframe tbody tr th {\n        vertical-align: top;\n    }\n\n    .dataframe thead th {\n        text-align: right;\n    }\n</style>\n<table border=\"1\" class=\"dataframe\">\n  <thead>\n    <tr style=\"text-align: right;\">\n      <th></th>\n      <th>Unnamed: 0</th>\n      <th>popularity</th>\n      <th>duration_ms</th>\n      <th>danceability</th>\n      <th>energy</th>\n      <th>key</th>\n      <th>loudness</th>\n      <th>mode</th>\n      <th>speechiness</th>\n      <th>acousticness</th>\n      <th>instrumentalness</th>\n      <th>liveness</th>\n      <th>valence</th>\n      <th>tempo</th>\n      <th>time_signature</th>\n      <th>genre_id</th>\n    </tr>\n  </thead>\n  <tbody>\n    <tr>\n      <th>count</th>\n      <td>113999.000000</td>\n      <td>113999.000000</td>\n      <td>1.139990e+05</td>\n      <td>113999.000000</td>\n      <td>113999.000000</td>\n      <td>113999.000000</td>\n      <td>113999.000000</td>\n      <td>113999.000000</td>\n      <td>113999.000000</td>\n      <td>113999.000000</td>\n      <td>113999.000000</td>\n      <td>113999.000000</td>\n      <td>113999.000000</td>\n      <td>113999.000000</td>\n      <td>113999.000000</td>\n      <td>113999.000000</td>\n    </tr>\n    <tr>\n      <th>mean</th>\n      <td>56999.421925</td>\n      <td>33.238827</td>\n      <td>2.280312e+05</td>\n      <td>0.566801</td>\n      <td>0.641383</td>\n      <td>5.309126</td>\n      <td>-8.258950</td>\n      <td>0.637558</td>\n      <td>0.084652</td>\n      <td>0.314907</td>\n      <td>0.156051</td>\n      <td>0.213554</td>\n      <td>0.474066</td>\n      <td>122.147695</td>\n      <td>3.904034</td>\n      <td>56.499925</td>\n    </tr>\n    <tr>\n      <th>std</th>\n      <td>32909.243463</td>\n      <td>22.304959</td>\n      <td>1.072961e+05</td>\n      <td>0.173543</td>\n      <td>0.251530</td>\n      <td>3.559999</td>\n      <td>5.029357</td>\n      <td>0.480708</td>\n      <td>0.105733</td>\n      <td>0.332522</td>\n      <td>0.309556</td>\n      <td>0.190378</td>\n      <td>0.259261</td>\n      <td>29.978290</td>\n      <td>0.432623</td>\n      <td>32.907978</td>\n    </tr>\n    <tr>\n      <th>min</th>\n      <td>0.000000</td>\n      <td>0.000000</td>\n      <td>8.586000e+03</td>\n      <td>0.000000</td>\n      <td>0.000000</td>\n      <td>0.000000</td>\n      <td>-49.531000</td>\n      <td>0.000000</td>\n      <td>0.000000</td>\n      <td>0.000000</td>\n      <td>0.000000</td>\n      <td>0.000000</td>\n      <td>0.000000</td>\n      <td>0.000000</td>\n      <td>0.000000</td>\n      <td>0.000000</td>\n    </tr>\n    <tr>\n      <th>25%</th>\n      <td>28499.500000</td>\n      <td>17.000000</td>\n      <td>1.740660e+05</td>\n      <td>0.456000</td>\n      <td>0.472000</td>\n      <td>2.000000</td>\n      <td>-10.013000</td>\n      <td>0.000000</td>\n      <td>0.035900</td>\n      <td>0.016900</td>\n      <td>0.000000</td>\n      <td>0.098000</td>\n      <td>0.260000</td>\n      <td>99.218500</td>\n      <td>4.000000</td>\n      <td>28.000000</td>\n    </tr>\n    <tr>\n      <th>50%</th>\n      <td>56999.000000</td>\n      <td>35.000000</td>\n      <td>2.129060e+05</td>\n      <td>0.580000</td>\n      <td>0.685000</td>\n      <td>5.000000</td>\n      <td>-7.004000</td>\n      <td>1.000000</td>\n      <td>0.048900</td>\n      <td>0.169000</td>\n      <td>0.000042</td>\n      <td>0.132000</td>\n      <td>0.464000</td>\n      <td>122.017000</td>\n      <td>4.000000</td>\n      <td>56.000000</td>\n    </tr>\n    <tr>\n      <th>75%</th>\n      <td>85499.500000</td>\n      <td>50.000000</td>\n      <td>2.615060e+05</td>\n      <td>0.695000</td>\n      <td>0.854000</td>\n      <td>8.000000</td>\n      <td>-5.003000</td>\n      <td>1.000000</td>\n      <td>0.084500</td>\n      <td>0.597500</td>\n      <td>0.049000</td>\n      <td>0.273000</td>\n      <td>0.683000</td>\n      <td>140.071000</td>\n      <td>4.000000</td>\n      <td>85.000000</td>\n    </tr>\n    <tr>\n      <th>max</th>\n      <td>113999.000000</td>\n      <td>100.000000</td>\n      <td>5.237295e+06</td>\n      <td>0.985000</td>\n      <td>1.000000</td>\n      <td>11.000000</td>\n      <td>4.532000</td>\n      <td>1.000000</td>\n      <td>0.965000</td>\n      <td>0.996000</td>\n      <td>1.000000</td>\n      <td>1.000000</td>\n      <td>0.995000</td>\n      <td>243.372000</td>\n      <td>5.000000</td>\n      <td>113.000000</td>\n    </tr>\n  </tbody>\n</table>\n</div>"
     },
     "execution_count": 5,
     "metadata": {},
     "output_type": "execute_result"
    }
   ],
   "source": [
    "data.describe()"
   ],
   "metadata": {
    "collapsed": false,
    "ExecuteTime": {
     "start_time": "2023-04-28T19:01:16.726983Z",
     "end_time": "2023-04-28T19:01:16.815382Z"
    }
   }
  },
  {
   "cell_type": "code",
   "execution_count": 6,
   "outputs": [],
   "source": [
    "data['popularity_flag'] = 0\n",
    "data.loc[data['popularity'] > 50, 'popularity_flag'] = 1"
   ],
   "metadata": {
    "collapsed": false,
    "ExecuteTime": {
     "start_time": "2023-04-28T19:01:16.818633Z",
     "end_time": "2023-04-28T19:01:16.829927Z"
    }
   }
  },
  {
   "cell_type": "code",
   "execution_count": 7,
   "outputs": [
    {
     "data": {
      "text/plain": "   Unnamed: 0                track_id                 artists  \\\n0           0  5SuOikwiRyPMVoIQDJUgSV             Gen Hoshino   \n1           1  4qPNDBW1i3p13qLCt0Ki3A            Ben Woodward   \n2           2  1iJBSr7s7jYXzM8EGcbK5b  Ingrid Michaelson;ZAYN   \n3           3  6lfxq3CG4xtTiEg7opyCyx            Kina Grannis   \n4           4  5vjLSffimiIP26QG5WcN2K        Chord Overstreet   \n\n                                          album_name  \\\n0                                             Comedy   \n1                                   Ghost (Acoustic)   \n2                                     To Begin Again   \n3  Crazy Rich Asians (Original Motion Picture Sou...   \n4                                            Hold On   \n\n                   track_name  popularity  duration_ms  explicit  \\\n0                      Comedy          73       230666     False   \n1            Ghost - Acoustic          55       149610     False   \n2              To Begin Again          57       210826     False   \n3  Can't Help Falling In Love          71       201933     False   \n4                     Hold On          82       198853     False   \n\n   danceability  energy  ...  speechiness  acousticness  instrumentalness  \\\n0         0.676  0.4610  ...       0.1430        0.0322          0.000001   \n1         0.420  0.1660  ...       0.0763        0.9240          0.000006   \n2         0.438  0.3590  ...       0.0557        0.2100          0.000000   \n3         0.266  0.0596  ...       0.0363        0.9050          0.000071   \n4         0.618  0.4430  ...       0.0526        0.4690          0.000000   \n\n   liveness  valence    tempo  time_signature  track_genre  genre_id  \\\n0    0.3580    0.715   87.917               4     acoustic         0   \n1    0.1010    0.267   77.489               4     acoustic         0   \n2    0.1170    0.120   76.332               4     acoustic         0   \n3    0.1320    0.143  181.740               3     acoustic         0   \n4    0.0829    0.167  119.949               4     acoustic         0   \n\n   popularity_flag  \n0                1  \n1                1  \n2                1  \n3                1  \n4                1  \n\n[5 rows x 23 columns]",
      "text/html": "<div>\n<style scoped>\n    .dataframe tbody tr th:only-of-type {\n        vertical-align: middle;\n    }\n\n    .dataframe tbody tr th {\n        vertical-align: top;\n    }\n\n    .dataframe thead th {\n        text-align: right;\n    }\n</style>\n<table border=\"1\" class=\"dataframe\">\n  <thead>\n    <tr style=\"text-align: right;\">\n      <th></th>\n      <th>Unnamed: 0</th>\n      <th>track_id</th>\n      <th>artists</th>\n      <th>album_name</th>\n      <th>track_name</th>\n      <th>popularity</th>\n      <th>duration_ms</th>\n      <th>explicit</th>\n      <th>danceability</th>\n      <th>energy</th>\n      <th>...</th>\n      <th>speechiness</th>\n      <th>acousticness</th>\n      <th>instrumentalness</th>\n      <th>liveness</th>\n      <th>valence</th>\n      <th>tempo</th>\n      <th>time_signature</th>\n      <th>track_genre</th>\n      <th>genre_id</th>\n      <th>popularity_flag</th>\n    </tr>\n  </thead>\n  <tbody>\n    <tr>\n      <th>0</th>\n      <td>0</td>\n      <td>5SuOikwiRyPMVoIQDJUgSV</td>\n      <td>Gen Hoshino</td>\n      <td>Comedy</td>\n      <td>Comedy</td>\n      <td>73</td>\n      <td>230666</td>\n      <td>False</td>\n      <td>0.676</td>\n      <td>0.4610</td>\n      <td>...</td>\n      <td>0.1430</td>\n      <td>0.0322</td>\n      <td>0.000001</td>\n      <td>0.3580</td>\n      <td>0.715</td>\n      <td>87.917</td>\n      <td>4</td>\n      <td>acoustic</td>\n      <td>0</td>\n      <td>1</td>\n    </tr>\n    <tr>\n      <th>1</th>\n      <td>1</td>\n      <td>4qPNDBW1i3p13qLCt0Ki3A</td>\n      <td>Ben Woodward</td>\n      <td>Ghost (Acoustic)</td>\n      <td>Ghost - Acoustic</td>\n      <td>55</td>\n      <td>149610</td>\n      <td>False</td>\n      <td>0.420</td>\n      <td>0.1660</td>\n      <td>...</td>\n      <td>0.0763</td>\n      <td>0.9240</td>\n      <td>0.000006</td>\n      <td>0.1010</td>\n      <td>0.267</td>\n      <td>77.489</td>\n      <td>4</td>\n      <td>acoustic</td>\n      <td>0</td>\n      <td>1</td>\n    </tr>\n    <tr>\n      <th>2</th>\n      <td>2</td>\n      <td>1iJBSr7s7jYXzM8EGcbK5b</td>\n      <td>Ingrid Michaelson;ZAYN</td>\n      <td>To Begin Again</td>\n      <td>To Begin Again</td>\n      <td>57</td>\n      <td>210826</td>\n      <td>False</td>\n      <td>0.438</td>\n      <td>0.3590</td>\n      <td>...</td>\n      <td>0.0557</td>\n      <td>0.2100</td>\n      <td>0.000000</td>\n      <td>0.1170</td>\n      <td>0.120</td>\n      <td>76.332</td>\n      <td>4</td>\n      <td>acoustic</td>\n      <td>0</td>\n      <td>1</td>\n    </tr>\n    <tr>\n      <th>3</th>\n      <td>3</td>\n      <td>6lfxq3CG4xtTiEg7opyCyx</td>\n      <td>Kina Grannis</td>\n      <td>Crazy Rich Asians (Original Motion Picture Sou...</td>\n      <td>Can't Help Falling In Love</td>\n      <td>71</td>\n      <td>201933</td>\n      <td>False</td>\n      <td>0.266</td>\n      <td>0.0596</td>\n      <td>...</td>\n      <td>0.0363</td>\n      <td>0.9050</td>\n      <td>0.000071</td>\n      <td>0.1320</td>\n      <td>0.143</td>\n      <td>181.740</td>\n      <td>3</td>\n      <td>acoustic</td>\n      <td>0</td>\n      <td>1</td>\n    </tr>\n    <tr>\n      <th>4</th>\n      <td>4</td>\n      <td>5vjLSffimiIP26QG5WcN2K</td>\n      <td>Chord Overstreet</td>\n      <td>Hold On</td>\n      <td>Hold On</td>\n      <td>82</td>\n      <td>198853</td>\n      <td>False</td>\n      <td>0.618</td>\n      <td>0.4430</td>\n      <td>...</td>\n      <td>0.0526</td>\n      <td>0.4690</td>\n      <td>0.000000</td>\n      <td>0.0829</td>\n      <td>0.167</td>\n      <td>119.949</td>\n      <td>4</td>\n      <td>acoustic</td>\n      <td>0</td>\n      <td>1</td>\n    </tr>\n  </tbody>\n</table>\n<p>5 rows × 23 columns</p>\n</div>"
     },
     "execution_count": 7,
     "metadata": {},
     "output_type": "execute_result"
    }
   ],
   "source": [
    "data.head()"
   ],
   "metadata": {
    "collapsed": false,
    "ExecuteTime": {
     "start_time": "2023-04-28T19:01:16.848383Z",
     "end_time": "2023-04-28T19:01:16.904472Z"
    }
   }
  },
  {
   "cell_type": "code",
   "execution_count": 8,
   "outputs": [
    {
     "data": {
      "text/plain": "                            0\nartists                      \nThe Beatles               279\nGeorge Jones              271\nStevie Wonder             236\nLinkin Park               224\nElla Fitzgerald           222\n...                       ...\nMother Love Bone            1\nDubVision;Afrojack          1\nDub Pistols;Too Many T's    1\nMothership                  1\nDJ Mongoose                 1\n\n[31437 rows x 1 columns]",
      "text/html": "<div>\n<style scoped>\n    .dataframe tbody tr th:only-of-type {\n        vertical-align: middle;\n    }\n\n    .dataframe tbody tr th {\n        vertical-align: top;\n    }\n\n    .dataframe thead th {\n        text-align: right;\n    }\n</style>\n<table border=\"1\" class=\"dataframe\">\n  <thead>\n    <tr style=\"text-align: right;\">\n      <th></th>\n      <th>0</th>\n    </tr>\n    <tr>\n      <th>artists</th>\n      <th></th>\n    </tr>\n  </thead>\n  <tbody>\n    <tr>\n      <th>The Beatles</th>\n      <td>279</td>\n    </tr>\n    <tr>\n      <th>George Jones</th>\n      <td>271</td>\n    </tr>\n    <tr>\n      <th>Stevie Wonder</th>\n      <td>236</td>\n    </tr>\n    <tr>\n      <th>Linkin Park</th>\n      <td>224</td>\n    </tr>\n    <tr>\n      <th>Ella Fitzgerald</th>\n      <td>222</td>\n    </tr>\n    <tr>\n      <th>...</th>\n      <td>...</td>\n    </tr>\n    <tr>\n      <th>Mother Love Bone</th>\n      <td>1</td>\n    </tr>\n    <tr>\n      <th>DubVision;Afrojack</th>\n      <td>1</td>\n    </tr>\n    <tr>\n      <th>Dub Pistols;Too Many T's</th>\n      <td>1</td>\n    </tr>\n    <tr>\n      <th>Mothership</th>\n      <td>1</td>\n    </tr>\n    <tr>\n      <th>DJ Mongoose</th>\n      <td>1</td>\n    </tr>\n  </tbody>\n</table>\n<p>31437 rows × 1 columns</p>\n</div>"
     },
     "execution_count": 8,
     "metadata": {},
     "output_type": "execute_result"
    }
   ],
   "source": [
    "data_art = data.groupby(['artists']).size()\n",
    "data_art = data_art.to_frame()\n",
    "data_art.sort_values(by=[0], ascending=False)"
   ],
   "metadata": {
    "collapsed": false,
    "ExecuteTime": {
     "start_time": "2023-04-28T19:01:16.866776Z",
     "end_time": "2023-04-28T19:01:16.997766Z"
    }
   }
  },
  {
   "cell_type": "code",
   "execution_count": 9,
   "outputs": [
    {
     "data": {
      "text/plain": "                      0\ntrack_genre            \nacoustic           1000\nafrobeat           1000\npsych-rock         1000\nprogressive-house  1000\npower-pop          1000\n...                 ...\nemo                1000\nelectronic         1000\nelectro            1000\nworld-music        1000\nk-pop               999\n\n[114 rows x 1 columns]",
      "text/html": "<div>\n<style scoped>\n    .dataframe tbody tr th:only-of-type {\n        vertical-align: middle;\n    }\n\n    .dataframe tbody tr th {\n        vertical-align: top;\n    }\n\n    .dataframe thead th {\n        text-align: right;\n    }\n</style>\n<table border=\"1\" class=\"dataframe\">\n  <thead>\n    <tr style=\"text-align: right;\">\n      <th></th>\n      <th>0</th>\n    </tr>\n    <tr>\n      <th>track_genre</th>\n      <th></th>\n    </tr>\n  </thead>\n  <tbody>\n    <tr>\n      <th>acoustic</th>\n      <td>1000</td>\n    </tr>\n    <tr>\n      <th>afrobeat</th>\n      <td>1000</td>\n    </tr>\n    <tr>\n      <th>psych-rock</th>\n      <td>1000</td>\n    </tr>\n    <tr>\n      <th>progressive-house</th>\n      <td>1000</td>\n    </tr>\n    <tr>\n      <th>power-pop</th>\n      <td>1000</td>\n    </tr>\n    <tr>\n      <th>...</th>\n      <td>...</td>\n    </tr>\n    <tr>\n      <th>emo</th>\n      <td>1000</td>\n    </tr>\n    <tr>\n      <th>electronic</th>\n      <td>1000</td>\n    </tr>\n    <tr>\n      <th>electro</th>\n      <td>1000</td>\n    </tr>\n    <tr>\n      <th>world-music</th>\n      <td>1000</td>\n    </tr>\n    <tr>\n      <th>k-pop</th>\n      <td>999</td>\n    </tr>\n  </tbody>\n</table>\n<p>114 rows × 1 columns</p>\n</div>"
     },
     "execution_count": 9,
     "metadata": {},
     "output_type": "execute_result"
    }
   ],
   "source": [
    "data_gen = data.groupby(['track_genre']).size()\n",
    "data_gen = data_gen.to_frame()\n",
    "data_gen.sort_values(by=[0], ascending=False)"
   ],
   "metadata": {
    "collapsed": false,
    "ExecuteTime": {
     "start_time": "2023-04-28T19:01:16.927214Z",
     "end_time": "2023-04-28T19:01:16.998767Z"
    }
   }
  },
  {
   "cell_type": "code",
   "execution_count": 10,
   "outputs": [
    {
     "name": "stdout",
     "output_type": "stream",
     "text": [
      "<class 'pandas.core.frame.DataFrame'>\n",
      "Index: 31437 entries, !nvite to 龍藏Ryuzo\n",
      "Data columns (total 1 columns):\n",
      " #   Column  Non-Null Count  Dtype\n",
      "---  ------  --------------  -----\n",
      " 0   0       31437 non-null  int64\n",
      "dtypes: int64(1)\n",
      "memory usage: 491.2+ KB\n"
     ]
    }
   ],
   "source": [
    "data_art.info()"
   ],
   "metadata": {
    "collapsed": false,
    "ExecuteTime": {
     "start_time": "2023-04-28T19:01:16.957893Z",
     "end_time": "2023-04-28T19:01:16.999769Z"
    }
   }
  },
  {
   "cell_type": "code",
   "execution_count": 11,
   "outputs": [],
   "source": [
    "data2 = data.drop(['Unnamed: 0', 'track_id','artists','album_name','track_name','popularity'], axis=1)"
   ],
   "metadata": {
    "collapsed": false,
    "ExecuteTime": {
     "start_time": "2023-04-28T19:01:16.974059Z",
     "end_time": "2023-04-28T19:01:17.042879Z"
    }
   }
  },
  {
   "cell_type": "code",
   "execution_count": 12,
   "outputs": [
    {
     "name": "stderr",
     "output_type": "stream",
     "text": [
      "C:\\Users\\tomas\\AppData\\Local\\Temp\\ipykernel_14268\\2859699111.py:1: FutureWarning: The default value of numeric_only in DataFrame.corr is deprecated. In a future version, it will default to False. Select only valid columns or specify the value of numeric_only to silence this warning.\n",
      "  pop_corr = data2[data2.columns[1:]].corr()['popularity_flag'][:-1]\n"
     ]
    }
   ],
   "source": [
    "pop_corr = data2[data2.columns[1:]].corr()['popularity_flag'][:-1]"
   ],
   "metadata": {
    "collapsed": false,
    "ExecuteTime": {
     "start_time": "2023-04-28T19:01:17.004765Z",
     "end_time": "2023-04-28T19:01:17.168436Z"
    }
   }
  },
  {
   "cell_type": "code",
   "execution_count": 13,
   "outputs": [],
   "source": [
    "ts_list = pop_corr.values.tolist()"
   ],
   "metadata": {
    "collapsed": false,
    "ExecuteTime": {
     "start_time": "2023-04-28T19:01:17.110963Z",
     "end_time": "2023-04-28T19:01:17.253586Z"
    }
   }
  },
  {
   "cell_type": "code",
   "execution_count": 14,
   "outputs": [],
   "source": [
    "ts_list_abs =  [abs(ele) for ele in ts_list]"
   ],
   "metadata": {
    "collapsed": false,
    "ExecuteTime": {
     "start_time": "2023-04-28T19:01:17.127569Z",
     "end_time": "2023-04-28T19:01:17.255586Z"
    }
   }
  },
  {
   "cell_type": "code",
   "execution_count": 15,
   "outputs": [
    {
     "data": {
      "text/plain": "0.03819828925358198"
     },
     "execution_count": 15,
     "metadata": {},
     "output_type": "execute_result"
    }
   ],
   "source": [
    "def Average(lst):\n",
    "    return sum(lst) / len(lst)\n",
    "\n",
    "average = Average(ts_list_abs)\n",
    "average"
   ],
   "metadata": {
    "collapsed": false,
    "ExecuteTime": {
     "start_time": "2023-04-28T19:01:17.141814Z",
     "end_time": "2023-04-28T19:01:17.255944Z"
    }
   }
  },
  {
   "cell_type": "code",
   "execution_count": 16,
   "outputs": [
    {
     "data": {
      "text/plain": "                  popularity_flag\nexplicit                 0.057928\ndanceability             0.052040\nenergy                  -0.022273\nkey                     -0.001432\nloudness                 0.034286\nmode                    -0.026229\nspeechiness             -0.049383\nacousticness            -0.035401\ninstrumentalness        -0.081801\nliveness                -0.086908\nvalence                 -0.040239\ntempo                   -0.013158\ntime_signature           0.024892\ngenre_id                -0.008807",
      "text/html": "<div>\n<style scoped>\n    .dataframe tbody tr th:only-of-type {\n        vertical-align: middle;\n    }\n\n    .dataframe tbody tr th {\n        vertical-align: top;\n    }\n\n    .dataframe thead th {\n        text-align: right;\n    }\n</style>\n<table border=\"1\" class=\"dataframe\">\n  <thead>\n    <tr style=\"text-align: right;\">\n      <th></th>\n      <th>popularity_flag</th>\n    </tr>\n  </thead>\n  <tbody>\n    <tr>\n      <th>explicit</th>\n      <td>0.057928</td>\n    </tr>\n    <tr>\n      <th>danceability</th>\n      <td>0.052040</td>\n    </tr>\n    <tr>\n      <th>energy</th>\n      <td>-0.022273</td>\n    </tr>\n    <tr>\n      <th>key</th>\n      <td>-0.001432</td>\n    </tr>\n    <tr>\n      <th>loudness</th>\n      <td>0.034286</td>\n    </tr>\n    <tr>\n      <th>mode</th>\n      <td>-0.026229</td>\n    </tr>\n    <tr>\n      <th>speechiness</th>\n      <td>-0.049383</td>\n    </tr>\n    <tr>\n      <th>acousticness</th>\n      <td>-0.035401</td>\n    </tr>\n    <tr>\n      <th>instrumentalness</th>\n      <td>-0.081801</td>\n    </tr>\n    <tr>\n      <th>liveness</th>\n      <td>-0.086908</td>\n    </tr>\n    <tr>\n      <th>valence</th>\n      <td>-0.040239</td>\n    </tr>\n    <tr>\n      <th>tempo</th>\n      <td>-0.013158</td>\n    </tr>\n    <tr>\n      <th>time_signature</th>\n      <td>0.024892</td>\n    </tr>\n    <tr>\n      <th>genre_id</th>\n      <td>-0.008807</td>\n    </tr>\n  </tbody>\n</table>\n</div>"
     },
     "execution_count": 16,
     "metadata": {},
     "output_type": "execute_result"
    }
   ],
   "source": [
    "pop_corr_df = pop_corr.to_frame()\n",
    "pop_corr_df"
   ],
   "metadata": {
    "collapsed": false,
    "ExecuteTime": {
     "start_time": "2023-04-28T19:01:17.157260Z",
     "end_time": "2023-04-28T19:01:17.257977Z"
    }
   }
  },
  {
   "cell_type": "code",
   "execution_count": 17,
   "outputs": [],
   "source": [
    "pop_corr_df['pop_flag_abs'] = abs(pop_corr_df['popularity_flag'])"
   ],
   "metadata": {
    "collapsed": false,
    "ExecuteTime": {
     "start_time": "2023-04-28T19:01:17.172435Z",
     "end_time": "2023-04-28T19:01:17.305449Z"
    }
   }
  },
  {
   "cell_type": "code",
   "execution_count": 18,
   "outputs": [
    {
     "data": {
      "text/plain": "                  popularity_flag  pop_flag_abs\nliveness                -0.086908      0.086908\ninstrumentalness        -0.081801      0.081801\nexplicit                 0.057928      0.057928\ndanceability             0.052040      0.052040\nspeechiness             -0.049383      0.049383\nvalence                 -0.040239      0.040239",
      "text/html": "<div>\n<style scoped>\n    .dataframe tbody tr th:only-of-type {\n        vertical-align: middle;\n    }\n\n    .dataframe tbody tr th {\n        vertical-align: top;\n    }\n\n    .dataframe thead th {\n        text-align: right;\n    }\n</style>\n<table border=\"1\" class=\"dataframe\">\n  <thead>\n    <tr style=\"text-align: right;\">\n      <th></th>\n      <th>popularity_flag</th>\n      <th>pop_flag_abs</th>\n    </tr>\n  </thead>\n  <tbody>\n    <tr>\n      <th>liveness</th>\n      <td>-0.086908</td>\n      <td>0.086908</td>\n    </tr>\n    <tr>\n      <th>instrumentalness</th>\n      <td>-0.081801</td>\n      <td>0.081801</td>\n    </tr>\n    <tr>\n      <th>explicit</th>\n      <td>0.057928</td>\n      <td>0.057928</td>\n    </tr>\n    <tr>\n      <th>danceability</th>\n      <td>0.052040</td>\n      <td>0.052040</td>\n    </tr>\n    <tr>\n      <th>speechiness</th>\n      <td>-0.049383</td>\n      <td>0.049383</td>\n    </tr>\n    <tr>\n      <th>valence</th>\n      <td>-0.040239</td>\n      <td>0.040239</td>\n    </tr>\n  </tbody>\n</table>\n</div>"
     },
     "execution_count": 18,
     "metadata": {},
     "output_type": "execute_result"
    }
   ],
   "source": [
    "pop_corr_abv = pop_corr_df[(pop_corr_df['pop_flag_abs']>average)]\n",
    "pop_corr_abv = pop_corr_abv.sort_values(by=['pop_flag_abs'], ascending=False)\n",
    "pop_corr_abv"
   ],
   "metadata": {
    "collapsed": false,
    "ExecuteTime": {
     "start_time": "2023-04-28T19:01:17.189909Z",
     "end_time": "2023-04-28T19:01:17.428687Z"
    }
   }
  },
  {
   "cell_type": "code",
   "execution_count": 19,
   "outputs": [
    {
     "name": "stdout",
     "output_type": "stream",
     "text": [
      "<class 'pandas.core.frame.DataFrame'>\n",
      "Int64Index: 113999 entries, 0 to 113999\n",
      "Data columns (total 17 columns):\n",
      " #   Column            Non-Null Count   Dtype  \n",
      "---  ------            --------------   -----  \n",
      " 0   duration_ms       113999 non-null  int64  \n",
      " 1   explicit          113999 non-null  bool   \n",
      " 2   danceability      113999 non-null  float64\n",
      " 3   energy            113999 non-null  float64\n",
      " 4   key               113999 non-null  int64  \n",
      " 5   loudness          113999 non-null  float64\n",
      " 6   mode              113999 non-null  int64  \n",
      " 7   speechiness       113999 non-null  float64\n",
      " 8   acousticness      113999 non-null  float64\n",
      " 9   instrumentalness  113999 non-null  float64\n",
      " 10  liveness          113999 non-null  float64\n",
      " 11  valence           113999 non-null  float64\n",
      " 12  tempo             113999 non-null  float64\n",
      " 13  time_signature    113999 non-null  int64  \n",
      " 14  track_genre       113999 non-null  object \n",
      " 15  genre_id          113999 non-null  int64  \n",
      " 16  popularity_flag   113999 non-null  int64  \n",
      "dtypes: bool(1), float64(9), int64(6), object(1)\n",
      "memory usage: 14.9+ MB\n"
     ]
    }
   ],
   "source": [
    "data2.info()"
   ],
   "metadata": {
    "collapsed": false,
    "ExecuteTime": {
     "start_time": "2023-04-28T19:01:17.203159Z",
     "end_time": "2023-04-28T19:01:17.512507Z"
    }
   }
  },
  {
   "cell_type": "code",
   "execution_count": 20,
   "outputs": [
    {
     "data": {
      "text/plain": "   duration_ms  danceability  energy  key  loudness  mode  speechiness  \\\n0       230666         0.676  0.4610    1    -6.746     0       0.1430   \n1       149610         0.420  0.1660    1   -17.235     1       0.0763   \n2       210826         0.438  0.3590    0    -9.734     1       0.0557   \n3       201933         0.266  0.0596    0   -18.515     1       0.0363   \n4       198853         0.618  0.4430    2    -9.681     1       0.0526   \n\n   acousticness  instrumentalness  liveness  ...  track_genre_spanish  \\\n0        0.0322          0.000001    0.3580  ...                    0   \n1        0.9240          0.000006    0.1010  ...                    0   \n2        0.2100          0.000000    0.1170  ...                    0   \n3        0.9050          0.000071    0.1320  ...                    0   \n4        0.4690          0.000000    0.0829  ...                    0   \n\n   track_genre_study  track_genre_swedish  track_genre_synth-pop  \\\n0                  0                    0                      0   \n1                  0                    0                      0   \n2                  0                    0                      0   \n3                  0                    0                      0   \n4                  0                    0                      0   \n\n   track_genre_tango  track_genre_techno  track_genre_trance  \\\n0                  0                   0                   0   \n1                  0                   0                   0   \n2                  0                   0                   0   \n3                  0                   0                   0   \n4                  0                   0                   0   \n\n   track_genre_trip-hop  track_genre_turkish  track_genre_world-music  \n0                     0                    0                        0  \n1                     0                    0                        0  \n2                     0                    0                        0  \n3                     0                    0                        0  \n4                     0                    0                        0  \n\n[5 rows x 129 columns]",
      "text/html": "<div>\n<style scoped>\n    .dataframe tbody tr th:only-of-type {\n        vertical-align: middle;\n    }\n\n    .dataframe tbody tr th {\n        vertical-align: top;\n    }\n\n    .dataframe thead th {\n        text-align: right;\n    }\n</style>\n<table border=\"1\" class=\"dataframe\">\n  <thead>\n    <tr style=\"text-align: right;\">\n      <th></th>\n      <th>duration_ms</th>\n      <th>danceability</th>\n      <th>energy</th>\n      <th>key</th>\n      <th>loudness</th>\n      <th>mode</th>\n      <th>speechiness</th>\n      <th>acousticness</th>\n      <th>instrumentalness</th>\n      <th>liveness</th>\n      <th>...</th>\n      <th>track_genre_spanish</th>\n      <th>track_genre_study</th>\n      <th>track_genre_swedish</th>\n      <th>track_genre_synth-pop</th>\n      <th>track_genre_tango</th>\n      <th>track_genre_techno</th>\n      <th>track_genre_trance</th>\n      <th>track_genre_trip-hop</th>\n      <th>track_genre_turkish</th>\n      <th>track_genre_world-music</th>\n    </tr>\n  </thead>\n  <tbody>\n    <tr>\n      <th>0</th>\n      <td>230666</td>\n      <td>0.676</td>\n      <td>0.4610</td>\n      <td>1</td>\n      <td>-6.746</td>\n      <td>0</td>\n      <td>0.1430</td>\n      <td>0.0322</td>\n      <td>0.000001</td>\n      <td>0.3580</td>\n      <td>...</td>\n      <td>0</td>\n      <td>0</td>\n      <td>0</td>\n      <td>0</td>\n      <td>0</td>\n      <td>0</td>\n      <td>0</td>\n      <td>0</td>\n      <td>0</td>\n      <td>0</td>\n    </tr>\n    <tr>\n      <th>1</th>\n      <td>149610</td>\n      <td>0.420</td>\n      <td>0.1660</td>\n      <td>1</td>\n      <td>-17.235</td>\n      <td>1</td>\n      <td>0.0763</td>\n      <td>0.9240</td>\n      <td>0.000006</td>\n      <td>0.1010</td>\n      <td>...</td>\n      <td>0</td>\n      <td>0</td>\n      <td>0</td>\n      <td>0</td>\n      <td>0</td>\n      <td>0</td>\n      <td>0</td>\n      <td>0</td>\n      <td>0</td>\n      <td>0</td>\n    </tr>\n    <tr>\n      <th>2</th>\n      <td>210826</td>\n      <td>0.438</td>\n      <td>0.3590</td>\n      <td>0</td>\n      <td>-9.734</td>\n      <td>1</td>\n      <td>0.0557</td>\n      <td>0.2100</td>\n      <td>0.000000</td>\n      <td>0.1170</td>\n      <td>...</td>\n      <td>0</td>\n      <td>0</td>\n      <td>0</td>\n      <td>0</td>\n      <td>0</td>\n      <td>0</td>\n      <td>0</td>\n      <td>0</td>\n      <td>0</td>\n      <td>0</td>\n    </tr>\n    <tr>\n      <th>3</th>\n      <td>201933</td>\n      <td>0.266</td>\n      <td>0.0596</td>\n      <td>0</td>\n      <td>-18.515</td>\n      <td>1</td>\n      <td>0.0363</td>\n      <td>0.9050</td>\n      <td>0.000071</td>\n      <td>0.1320</td>\n      <td>...</td>\n      <td>0</td>\n      <td>0</td>\n      <td>0</td>\n      <td>0</td>\n      <td>0</td>\n      <td>0</td>\n      <td>0</td>\n      <td>0</td>\n      <td>0</td>\n      <td>0</td>\n    </tr>\n    <tr>\n      <th>4</th>\n      <td>198853</td>\n      <td>0.618</td>\n      <td>0.4430</td>\n      <td>2</td>\n      <td>-9.681</td>\n      <td>1</td>\n      <td>0.0526</td>\n      <td>0.4690</td>\n      <td>0.000000</td>\n      <td>0.0829</td>\n      <td>...</td>\n      <td>0</td>\n      <td>0</td>\n      <td>0</td>\n      <td>0</td>\n      <td>0</td>\n      <td>0</td>\n      <td>0</td>\n      <td>0</td>\n      <td>0</td>\n      <td>0</td>\n    </tr>\n  </tbody>\n</table>\n<p>5 rows × 129 columns</p>\n</div>"
     },
     "execution_count": 20,
     "metadata": {},
     "output_type": "execute_result"
    }
   ],
   "source": [
    "dummies_var = [\"explicit\",\"track_genre\"]\n",
    "data3 = pd.get_dummies(data2, prefix=dummies_var, columns=dummies_var, drop_first=True )\n",
    "data3.head()"
   ],
   "metadata": {
    "collapsed": false,
    "ExecuteTime": {
     "start_time": "2023-04-28T19:01:17.251585Z",
     "end_time": "2023-04-28T19:01:17.566993Z"
    }
   }
  },
  {
   "cell_type": "code",
   "execution_count": 21,
   "outputs": [],
   "source": [
    "# Putting feature variable to X\n",
    "X = data3.drop(['popularity_flag'],axis=1)\n",
    "\n",
    "# Putting response variable to y\n",
    "y = data3['popularity_flag']"
   ],
   "metadata": {
    "collapsed": false,
    "ExecuteTime": {
     "start_time": "2023-04-28T19:01:17.357879Z",
     "end_time": "2023-04-28T19:01:17.689562Z"
    }
   }
  },
  {
   "cell_type": "code",
   "execution_count": 22,
   "outputs": [],
   "source": [
    "from sklearn.model_selection import train_test_split"
   ],
   "metadata": {
    "collapsed": false,
    "ExecuteTime": {
     "start_time": "2023-04-28T19:01:17.388572Z",
     "end_time": "2023-04-28T19:01:17.693559Z"
    }
   }
  },
  {
   "cell_type": "code",
   "execution_count": 23,
   "outputs": [
    {
     "data": {
      "text/plain": "((96899, 128), (17100, 128))"
     },
     "execution_count": 23,
     "metadata": {},
     "output_type": "execute_result"
    }
   ],
   "source": [
    "X_train, X_test, y_train, y_test = train_test_split(X, y, train_size=0.85, random_state=12345)\n",
    "X_train.shape, X_test.shape"
   ],
   "metadata": {
    "collapsed": false,
    "ExecuteTime": {
     "start_time": "2023-04-28T19:01:17.402785Z",
     "end_time": "2023-04-28T19:01:17.752075Z"
    }
   }
  },
  {
   "cell_type": "code",
   "execution_count": 24,
   "outputs": [],
   "source": [
    "from sklearn.tree import DecisionTreeClassifier"
   ],
   "metadata": {
    "collapsed": false,
    "ExecuteTime": {
     "start_time": "2023-04-28T19:01:17.513505Z",
     "end_time": "2023-04-28T19:01:17.786063Z"
    }
   }
  },
  {
   "cell_type": "code",
   "execution_count": 25,
   "outputs": [
    {
     "data": {
      "text/plain": "DecisionTreeClassifier(random_state=1234)",
      "text/html": "<style>#sk-container-id-1 {color: black;background-color: white;}#sk-container-id-1 pre{padding: 0;}#sk-container-id-1 div.sk-toggleable {background-color: white;}#sk-container-id-1 label.sk-toggleable__label {cursor: pointer;display: block;width: 100%;margin-bottom: 0;padding: 0.3em;box-sizing: border-box;text-align: center;}#sk-container-id-1 label.sk-toggleable__label-arrow:before {content: \"▸\";float: left;margin-right: 0.25em;color: #696969;}#sk-container-id-1 label.sk-toggleable__label-arrow:hover:before {color: black;}#sk-container-id-1 div.sk-estimator:hover label.sk-toggleable__label-arrow:before {color: black;}#sk-container-id-1 div.sk-toggleable__content {max-height: 0;max-width: 0;overflow: hidden;text-align: left;background-color: #f0f8ff;}#sk-container-id-1 div.sk-toggleable__content pre {margin: 0.2em;color: black;border-radius: 0.25em;background-color: #f0f8ff;}#sk-container-id-1 input.sk-toggleable__control:checked~div.sk-toggleable__content {max-height: 200px;max-width: 100%;overflow: auto;}#sk-container-id-1 input.sk-toggleable__control:checked~label.sk-toggleable__label-arrow:before {content: \"▾\";}#sk-container-id-1 div.sk-estimator input.sk-toggleable__control:checked~label.sk-toggleable__label {background-color: #d4ebff;}#sk-container-id-1 div.sk-label input.sk-toggleable__control:checked~label.sk-toggleable__label {background-color: #d4ebff;}#sk-container-id-1 input.sk-hidden--visually {border: 0;clip: rect(1px 1px 1px 1px);clip: rect(1px, 1px, 1px, 1px);height: 1px;margin: -1px;overflow: hidden;padding: 0;position: absolute;width: 1px;}#sk-container-id-1 div.sk-estimator {font-family: monospace;background-color: #f0f8ff;border: 1px dotted black;border-radius: 0.25em;box-sizing: border-box;margin-bottom: 0.5em;}#sk-container-id-1 div.sk-estimator:hover {background-color: #d4ebff;}#sk-container-id-1 div.sk-parallel-item::after {content: \"\";width: 100%;border-bottom: 1px solid gray;flex-grow: 1;}#sk-container-id-1 div.sk-label:hover label.sk-toggleable__label {background-color: #d4ebff;}#sk-container-id-1 div.sk-serial::before {content: \"\";position: absolute;border-left: 1px solid gray;box-sizing: border-box;top: 0;bottom: 0;left: 50%;z-index: 0;}#sk-container-id-1 div.sk-serial {display: flex;flex-direction: column;align-items: center;background-color: white;padding-right: 0.2em;padding-left: 0.2em;position: relative;}#sk-container-id-1 div.sk-item {position: relative;z-index: 1;}#sk-container-id-1 div.sk-parallel {display: flex;align-items: stretch;justify-content: center;background-color: white;position: relative;}#sk-container-id-1 div.sk-item::before, #sk-container-id-1 div.sk-parallel-item::before {content: \"\";position: absolute;border-left: 1px solid gray;box-sizing: border-box;top: 0;bottom: 0;left: 50%;z-index: -1;}#sk-container-id-1 div.sk-parallel-item {display: flex;flex-direction: column;z-index: 1;position: relative;background-color: white;}#sk-container-id-1 div.sk-parallel-item:first-child::after {align-self: flex-end;width: 50%;}#sk-container-id-1 div.sk-parallel-item:last-child::after {align-self: flex-start;width: 50%;}#sk-container-id-1 div.sk-parallel-item:only-child::after {width: 0;}#sk-container-id-1 div.sk-dashed-wrapped {border: 1px dashed gray;margin: 0 0.4em 0.5em 0.4em;box-sizing: border-box;padding-bottom: 0.4em;background-color: white;}#sk-container-id-1 div.sk-label label {font-family: monospace;font-weight: bold;display: inline-block;line-height: 1.2em;}#sk-container-id-1 div.sk-label-container {text-align: center;}#sk-container-id-1 div.sk-container {/* jupyter's `normalize.less` sets `[hidden] { display: none; }` but bootstrap.min.css set `[hidden] { display: none !important; }` so we also need the `!important` here to be able to override the default hidden behavior on the sphinx rendered scikit-learn.org. See: https://github.com/scikit-learn/scikit-learn/issues/21755 */display: inline-block !important;position: relative;}#sk-container-id-1 div.sk-text-repr-fallback {display: none;}</style><div id=\"sk-container-id-1\" class=\"sk-top-container\"><div class=\"sk-text-repr-fallback\"><pre>DecisionTreeClassifier(random_state=1234)</pre><b>In a Jupyter environment, please rerun this cell to show the HTML representation or trust the notebook. <br />On GitHub, the HTML representation is unable to render, please try loading this page with nbviewer.org.</b></div><div class=\"sk-container\" hidden><div class=\"sk-item\"><div class=\"sk-estimator sk-toggleable\"><input class=\"sk-toggleable__control sk-hidden--visually\" id=\"sk-estimator-id-1\" type=\"checkbox\" checked><label for=\"sk-estimator-id-1\" class=\"sk-toggleable__label sk-toggleable__label-arrow\">DecisionTreeClassifier</label><div class=\"sk-toggleable__content\"><pre>DecisionTreeClassifier(random_state=1234)</pre></div></div></div></div></div>"
     },
     "execution_count": 25,
     "metadata": {},
     "output_type": "execute_result"
    }
   ],
   "source": [
    "dt = DecisionTreeClassifier(random_state=1234)\n",
    "dt.fit(X_train, y_train)"
   ],
   "metadata": {
    "collapsed": false,
    "ExecuteTime": {
     "start_time": "2023-04-28T19:01:17.526077Z",
     "end_time": "2023-04-28T19:01:21.334766Z"
    }
   }
  },
  {
   "cell_type": "code",
   "execution_count": 26,
   "outputs": [
    {
     "data": {
      "text/plain": "<Figure size 500x500 with 1 Axes>",
      "image/png": "[encoded data removed]"
     },
     "metadata": {},
     "output_type": "display_data"
    }
   ],
   "source": [
    "from sklearn.metrics import confusion_matrix, precision_score, recall_score, f1_score, accuracy_score\n",
    "\n",
    "\n",
    "y_train_preddt = dt.predict(X_train)\n",
    "y_test_preddt = dt.predict(X_test)\n",
    "\n",
    "conf_matrix = confusion_matrix(y_true=y_test, y_pred=y_test_preddt)\n",
    "#\n",
    "# Print the confusion matrix using Matplotlib\n",
    "#\n",
    "fig, ax = plt.subplots(figsize=(5, 5))\n",
    "ax.matshow(conf_matrix, cmap=plt.cm.Oranges, alpha=0.3)\n",
    "for i in range(conf_matrix.shape[0]):\n",
    "    for j in range(conf_matrix.shape[1]):\n",
    "        ax.text(x=j, y=i,s=conf_matrix[i, j], va='center', ha='center', size='xx-large')\n",
    "\n",
    "plt.xlabel('Predictions', fontsize=18)\n",
    "plt.ylabel('Actuals', fontsize=18)\n",
    "plt.title('Confusion Matrix', fontsize=18)\n",
    "plt.show()"
   ],
   "metadata": {
    "collapsed": false,
    "ExecuteTime": {
     "start_time": "2023-04-28T19:01:21.342767Z",
     "end_time": "2023-04-28T19:01:21.705239Z"
    }
   }
  },
  {
   "cell_type": "code",
   "execution_count": 27,
   "outputs": [
    {
     "data": {
      "text/plain": "array([[11155,  1783],\n       [ 1984,  2178]], dtype=int64)"
     },
     "execution_count": 27,
     "metadata": {},
     "output_type": "execute_result"
    }
   ],
   "source": [
    "conf_matrix"
   ],
   "metadata": {
    "collapsed": false,
    "ExecuteTime": {
     "start_time": "2023-04-28T19:01:21.708451Z",
     "end_time": "2023-04-28T19:01:21.794722Z"
    }
   }
  },
  {
   "cell_type": "code",
   "execution_count": 28,
   "outputs": [
    {
     "name": "stdout",
     "output_type": "stream",
     "text": [
      "Accuracy:  0.7797076023391812\n",
      "Precision:  0.862188900912042\n",
      "Recall:  0.8489991627977777\n"
     ]
    }
   ],
   "source": [
    "print(\"Accuracy: \", (conf_matrix[0,0]+conf_matrix[1,1])/(conf_matrix[0,0]+conf_matrix[1,1]+conf_matrix[0,1]+conf_matrix[1,0]) )\n",
    "print(\"Precision: \", (conf_matrix[0,0])/(conf_matrix[0,0]+conf_matrix[0,1]) )\n",
    "print(\"Recall: \", (conf_matrix[0,0])/(conf_matrix[0,0]+conf_matrix[1,0]) )"
   ],
   "metadata": {
    "collapsed": false,
    "ExecuteTime": {
     "start_time": "2023-04-28T19:01:21.728677Z",
     "end_time": "2023-04-28T19:01:21.823400Z"
    }
   }
  },
  {
   "cell_type": "code",
   "execution_count": 29,
   "outputs": [
    {
     "data": {
      "text/plain": "RandomForestClassifier(n_estimators=1000)",
      "text/html": "<style>#sk-container-id-2 {color: black;background-color: white;}#sk-container-id-2 pre{padding: 0;}#sk-container-id-2 div.sk-toggleable {background-color: white;}#sk-container-id-2 label.sk-toggleable__label {cursor: pointer;display: block;width: 100%;margin-bottom: 0;padding: 0.3em;box-sizing: border-box;text-align: center;}#sk-container-id-2 label.sk-toggleable__label-arrow:before {content: \"▸\";float: left;margin-right: 0.25em;color: #696969;}#sk-container-id-2 label.sk-toggleable__label-arrow:hover:before {color: black;}#sk-container-id-2 div.sk-estimator:hover label.sk-toggleable__label-arrow:before {color: black;}#sk-container-id-2 div.sk-toggleable__content {max-height: 0;max-width: 0;overflow: hidden;text-align: left;background-color: #f0f8ff;}#sk-container-id-2 div.sk-toggleable__content pre {margin: 0.2em;color: black;border-radius: 0.25em;background-color: #f0f8ff;}#sk-container-id-2 input.sk-toggleable__control:checked~div.sk-toggleable__content {max-height: 200px;max-width: 100%;overflow: auto;}#sk-container-id-2 input.sk-toggleable__control:checked~label.sk-toggleable__label-arrow:before {content: \"▾\";}#sk-container-id-2 div.sk-estimator input.sk-toggleable__control:checked~label.sk-toggleable__label {background-color: #d4ebff;}#sk-container-id-2 div.sk-label input.sk-toggleable__control:checked~label.sk-toggleable__label {background-color: #d4ebff;}#sk-container-id-2 input.sk-hidden--visually {border: 0;clip: rect(1px 1px 1px 1px);clip: rect(1px, 1px, 1px, 1px);height: 1px;margin: -1px;overflow: hidden;padding: 0;position: absolute;width: 1px;}#sk-container-id-2 div.sk-estimator {font-family: monospace;background-color: #f0f8ff;border: 1px dotted black;border-radius: 0.25em;box-sizing: border-box;margin-bottom: 0.5em;}#sk-container-id-2 div.sk-estimator:hover {background-color: #d4ebff;}#sk-container-id-2 div.sk-parallel-item::after {content: \"\";width: 100%;border-bottom: 1px solid gray;flex-grow: 1;}#sk-container-id-2 div.sk-label:hover label.sk-toggleable__label {background-color: #d4ebff;}#sk-container-id-2 div.sk-serial::before {content: \"\";position: absolute;border-left: 1px solid gray;box-sizing: border-box;top: 0;bottom: 0;left: 50%;z-index: 0;}#sk-container-id-2 div.sk-serial {display: flex;flex-direction: column;align-items: center;background-color: white;padding-right: 0.2em;padding-left: 0.2em;position: relative;}#sk-container-id-2 div.sk-item {position: relative;z-index: 1;}#sk-container-id-2 div.sk-parallel {display: flex;align-items: stretch;justify-content: center;background-color: white;position: relative;}#sk-container-id-2 div.sk-item::before, #sk-container-id-2 div.sk-parallel-item::before {content: \"\";position: absolute;border-left: 1px solid gray;box-sizing: border-box;top: 0;bottom: 0;left: 50%;z-index: -1;}#sk-container-id-2 div.sk-parallel-item {display: flex;flex-direction: column;z-index: 1;position: relative;background-color: white;}#sk-container-id-2 div.sk-parallel-item:first-child::after {align-self: flex-end;width: 50%;}#sk-container-id-2 div.sk-parallel-item:last-child::after {align-self: flex-start;width: 50%;}#sk-container-id-2 div.sk-parallel-item:only-child::after {width: 0;}#sk-container-id-2 div.sk-dashed-wrapped {border: 1px dashed gray;margin: 0 0.4em 0.5em 0.4em;box-sizing: border-box;padding-bottom: 0.4em;background-color: white;}#sk-container-id-2 div.sk-label label {font-family: monospace;font-weight: bold;display: inline-block;line-height: 1.2em;}#sk-container-id-2 div.sk-label-container {text-align: center;}#sk-container-id-2 div.sk-container {/* jupyter's `normalize.less` sets `[hidden] { display: none; }` but bootstrap.min.css set `[hidden] { display: none !important; }` so we also need the `!important` here to be able to override the default hidden behavior on the sphinx rendered scikit-learn.org. See: https://github.com/scikit-learn/scikit-learn/issues/21755 */display: inline-block !important;position: relative;}#sk-container-id-2 div.sk-text-repr-fallback {display: none;}</style><div id=\"sk-container-id-2\" class=\"sk-top-container\"><div class=\"sk-text-repr-fallback\"><pre>RandomForestClassifier(n_estimators=1000)</pre><b>In a Jupyter environment, please rerun this cell to show the HTML representation or trust the notebook. <br />On GitHub, the HTML representation is unable to render, please try loading this page with nbviewer.org.</b></div><div class=\"sk-container\" hidden><div class=\"sk-item\"><div class=\"sk-estimator sk-toggleable\"><input class=\"sk-toggleable__control sk-hidden--visually\" id=\"sk-estimator-id-2\" type=\"checkbox\" checked><label for=\"sk-estimator-id-2\" class=\"sk-toggleable__label sk-toggleable__label-arrow\">RandomForestClassifier</label><div class=\"sk-toggleable__content\"><pre>RandomForestClassifier(n_estimators=1000)</pre></div></div></div></div></div>"
     },
     "execution_count": 29,
     "metadata": {},
     "output_type": "execute_result"
    }
   ],
   "source": [
    "#Import Random Forest Model\n",
    "from sklearn.ensemble import RandomForestClassifier\n",
    "\n",
    "#Create a Gaussian Classifier\n",
    "rf=RandomForestClassifier(n_estimators=1000)\n",
    "\n",
    "#Train the model using the training sets y_pred=clf.predict(X_test)\n",
    "rf.fit(X_train, y_train)"
   ],
   "metadata": {
    "collapsed": false,
    "ExecuteTime": {
     "start_time": "2023-04-28T19:01:21.738701Z",
     "end_time": "2023-04-28T19:08:00.576014Z"
    }
   }
  },
  {
   "cell_type": "code",
   "execution_count": 30,
   "outputs": [
    {
     "data": {
      "text/plain": "<Figure size 500x500 with 1 Axes>",
      "image/png": "[encoded data removed]"
     },
     "metadata": {},
     "output_type": "display_data"
    }
   ],
   "source": [
    "y_train_predrf = rf.predict(X_train)\n",
    "y_test_predrf = rf.predict(X_test)\n",
    "\n",
    "conf_matrix_rf = confusion_matrix(y_true=y_test, y_pred=y_test_predrf)\n",
    "#\n",
    "# Print the confusion matrix using Matplotlib\n",
    "#\n",
    "fig, ax = plt.subplots(figsize=(5, 5))\n",
    "ax.matshow(conf_matrix_rf, cmap=plt.cm.Oranges, alpha=0.3)\n",
    "for i in range(conf_matrix_rf.shape[0]):\n",
    "    for j in range(conf_matrix_rf.shape[1]):\n",
    "        ax.text(x=j, y=i,s=conf_matrix_rf[i, j], va='center', ha='center', size='xx-large')\n",
    "\n",
    "plt.xlabel('Predictions', fontsize=18)\n",
    "plt.ylabel('Actuals', fontsize=18)\n",
    "plt.title('Confusion Matrix', fontsize=18)\n",
    "plt.show()"
   ],
   "metadata": {
    "collapsed": false,
    "ExecuteTime": {
     "start_time": "2023-04-28T19:08:00.580013Z",
     "end_time": "2023-04-28T19:08:40.931768Z"
    }
   }
  },
  {
   "cell_type": "code",
   "execution_count": 31,
   "outputs": [
    {
     "name": "stdout",
     "output_type": "stream",
     "text": [
      "Accuracy:  0.8390643274853801\n",
      "Precision:  0.9508424795176998\n",
      "Recall:  0.8532390067970592\n"
     ]
    }
   ],
   "source": [
    "print(\"Accuracy: \", (conf_matrix_rf[0,0]+conf_matrix_rf[1,1])/(conf_matrix_rf[0,0]+conf_matrix_rf[1,1]+conf_matrix_rf[0,1]+conf_matrix_rf[1,0]) )\n",
    "print(\"Precision: \", (conf_matrix_rf[0,0])/(conf_matrix_rf[0,0]+conf_matrix_rf[0,1]) )\n",
    "print(\"Recall: \", (conf_matrix_rf[0,0])/(conf_matrix_rf[0,0]+conf_matrix_rf[1,0]) )"
   ],
   "metadata": {
    "collapsed": false,
    "ExecuteTime": {
     "start_time": "2023-04-28T19:08:40.937025Z",
     "end_time": "2023-04-28T19:08:41.004596Z"
    }
   }
  },
  {
   "cell_type": "code",
   "execution_count": 32,
   "outputs": [],
   "source": [
    "import xgboost as xgb\n",
    "from xgboost import XGBClassifier\n",
    "\n",
    "xgb=XGBClassifier(n_estimators=1000, seed = 123)"
   ],
   "metadata": {
    "collapsed": false,
    "ExecuteTime": {
     "start_time": "2023-04-28T19:08:40.949477Z",
     "end_time": "2023-04-28T19:08:41.059978Z"
    }
   }
  },
  {
   "cell_type": "code",
   "execution_count": 33,
   "outputs": [
    {
     "data": {
      "text/plain": "<Figure size 500x500 with 1 Axes>",
      "image/png": "[encoded data removed]"
     },
     "metadata": {},
     "output_type": "display_data"
    }
   ],
   "source": [
    "xgb.fit(X_train, y_train)\n",
    "y_train_predxgb = xgb.predict(X_train)\n",
    "y_test_predxgb = xgb.predict(X_test)\n",
    "\n",
    "conf_matrix_xgb = confusion_matrix(y_true=y_test, y_pred=y_test_predxgb)\n",
    "#\n",
    "# Print the confusion matrix using Matplotlib\n",
    "#\n",
    "fig, ax = plt.subplots(figsize=(5, 5))\n",
    "ax.matshow(conf_matrix_xgb, cmap=plt.cm.Oranges, alpha=0.3)\n",
    "for i in range(conf_matrix_xgb.shape[0]):\n",
    "    for j in range(conf_matrix_xgb.shape[1]):\n",
    "        ax.text(x=j, y=i,s=conf_matrix_xgb[i, j], va='center', ha='center', size='xx-large')\n",
    "\n",
    "plt.xlabel('Predictions', fontsize=18)\n",
    "plt.ylabel('Actuals', fontsize=18)\n",
    "plt.title('Confusion Matrix', fontsize=18)\n",
    "plt.show()"
   ],
   "metadata": {
    "collapsed": false,
    "ExecuteTime": {
     "start_time": "2023-04-28T19:08:41.046729Z",
     "end_time": "2023-04-28T19:10:17.093628Z"
    }
   }
  },
  {
   "cell_type": "code",
   "execution_count": 34,
   "outputs": [
    {
     "name": "stdout",
     "output_type": "stream",
     "text": [
      "Accuracy:  0.8556140350877193\n",
      "Precision:  0.9370072654196939\n",
      "Recall:  0.8799448355955578\n"
     ]
    }
   ],
   "source": [
    "print(\"Accuracy: \", (conf_matrix_xgb[0,0]+conf_matrix_xgb[1,1])/(conf_matrix_xgb[0,0]+conf_matrix_xgb[1,1]+conf_matrix_xgb[0,1]+conf_matrix_xgb[1,0]) )\n",
    "print(\"Precision: \", (conf_matrix_xgb[0,0])/(conf_matrix_xgb[0,0]+conf_matrix_xgb[0,1]) )\n",
    "print(\"Recall: \", (conf_matrix_xgb[0,0])/(conf_matrix_xgb[0,0]+conf_matrix_xgb[1,0]) )"
   ],
   "metadata": {
    "collapsed": false,
    "ExecuteTime": {
     "start_time": "2023-04-28T19:10:17.099851Z",
     "end_time": "2023-04-28T19:10:17.181046Z"
    }
   }
  },
  {
   "cell_type": "code",
   "execution_count": 35,
   "outputs": [],
   "source": [
    "from sklearn.model_selection import GridSearchCV\n",
    "# Create the parameter grid based on the results of random search\n",
    "param_grid = {\n",
    "    'max_depth': [80, 100],\n",
    "    'max_features': ['sqrt'],\n",
    "    'min_samples_leaf': [1,3, 5],\n",
    "    'min_samples_split': [2, 8, 10],\n",
    "    'n_estimators': [100, 500,1000]\n",
    "}\n",
    "# Create a based model\n",
    "rf_0 = RandomForestClassifier()\n",
    "# Instantiate the grid search model\n",
    "grid_search = GridSearchCV(estimator = rf_0, param_grid = param_grid, scoring = 'recall')"
   ],
   "metadata": {
    "collapsed": false,
    "ExecuteTime": {
     "start_time": "2023-04-28T19:10:17.110007Z",
     "end_time": "2023-04-28T19:10:17.182046Z"
    }
   }
  }
 ],
 "metadata": {
  "kernelspec": {
   "display_name": "Python 3",
   "language": "python",
   "name": "python3"
  },
  "language_info": {
   "codemirror_mode": {
    "name": "ipython",
    "version": 2
   },
   "file_extension": ".py",
   "mimetype": "text/x-python",
   "name": "python",
   "nbconvert_exporter": "python",
   "pygments_lexer": "ipython2",
   "version": "2.7.6"
  }
 },
 "nbformat": 4,
 "nbformat_minor": 0
}
