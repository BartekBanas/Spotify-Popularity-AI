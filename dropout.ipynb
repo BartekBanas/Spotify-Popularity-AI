{
 "cells": [
  {
   "cell_type": "markdown",
   "metadata": {},
   "source": [
    "# AI for estimating song's popularity"
   ]
  },
  {
   "cell_type": "code",
   "execution_count": 1,
   "metadata": {
    "ExecuteTime": {
     "end_time": "2023-05-28T15:04:44.983576600Z",
     "start_time": "2023-05-28T15:04:35.820796700Z"
    }
   },
   "outputs": [],
   "source": [
    "import pandas as pd\n",
    "import numpy as np\n",
    "import tensorflow as tf\n",
    "from tensorflow import keras\n",
    "from sklearn.model_selection import train_test_split\n",
    "import matplotlib.pyplot as plt"
   ]
  },
  {
   "cell_type": "code",
   "execution_count": 2,
   "metadata": {
    "ExecuteTime": {
     "end_time": "2023-05-28T15:04:45.413909900Z",
     "start_time": "2023-05-28T15:04:44.986746700Z"
    }
   },
   "outputs": [],
   "source": [
    "data = pd.read_csv(\"modified_data.csv\")\n",
    "#data = data.sample(frac=0.2)"
   ]
  },
  {
   "cell_type": "code",
   "execution_count": 3,
   "outputs": [
    {
     "data": {
      "text/plain": "          Unnamed: 0     popularity   duration_ms   danceability  \\\ncount  114000.000000  114000.000000  1.140000e+05  114000.000000   \nmean    56999.500000      33.238535  2.280292e+05       0.566800   \nstd     32909.109681      22.305078  1.072977e+05       0.173542   \nmin         0.000000       0.000000  0.000000e+00       0.000000   \n25%     28499.750000      17.000000  1.740660e+05       0.456000   \n50%     56999.500000      35.000000  2.129060e+05       0.580000   \n75%     85499.250000      50.000000  2.615060e+05       0.695000   \nmax    113999.000000     100.000000  5.237295e+06       0.985000   \n\n              energy            key       loudness           mode  \\\ncount  114000.000000  114000.000000  114000.000000  114000.000000   \nmean        0.641383       5.309140      -8.258960       0.637553   \nstd         0.251529       3.559987       5.029337       0.480709   \nmin         0.000000       0.000000     -49.531000       0.000000   \n25%         0.472000       2.000000     -10.013000       0.000000   \n50%         0.685000       5.000000      -7.004000       1.000000   \n75%         0.854000       8.000000      -5.003000       1.000000   \nmax         1.000000      11.000000       4.532000       1.000000   \n\n         speechiness   acousticness  instrumentalness       liveness  \\\ncount  114000.000000  114000.000000     114000.000000  114000.000000   \nmean        0.084652       0.314910          0.156050       0.213553   \nstd         0.105732       0.332523          0.309555       0.190378   \nmin         0.000000       0.000000          0.000000       0.000000   \n25%         0.035900       0.016900          0.000000       0.098000   \n50%         0.048900       0.169000          0.000042       0.132000   \n75%         0.084500       0.598000          0.049000       0.273000   \nmax         0.965000       0.996000          1.000000       1.000000   \n\n             valence          tempo  time_signature       genre_id  \\\ncount  114000.000000  114000.000000   114000.000000  114000.000000   \nmean        0.474068     122.147837        3.904035      56.500000   \nstd         0.259261      29.978197        0.432621      32.907844   \nmin         0.000000       0.000000        0.000000       0.000000   \n25%         0.260000      99.218750        4.000000      28.000000   \n50%         0.464000     122.017000        4.000000      56.500000   \n75%         0.683000     140.071000        4.000000      85.000000   \nmax         0.995000     243.372000        5.000000     113.000000   \n\n         artists_id  \ncount  1.140000e+05  \nmean   5.034422e+07  \nstd    2.866328e+07  \nmin    1.148500e+04  \n25%    2.565050e+07  \n50%    4.995879e+07  \n75%    7.594484e+07  \nmax    9.999973e+07  ",
      "text/html": "<div>\n<style scoped>\n    .dataframe tbody tr th:only-of-type {\n        vertical-align: middle;\n    }\n\n    .dataframe tbody tr th {\n        vertical-align: top;\n    }\n\n    .dataframe thead th {\n        text-align: right;\n    }\n</style>\n<table border=\"1\" class=\"dataframe\">\n  <thead>\n    <tr style=\"text-align: right;\">\n      <th></th>\n      <th>Unnamed: 0</th>\n      <th>popularity</th>\n      <th>duration_ms</th>\n      <th>danceability</th>\n      <th>energy</th>\n      <th>key</th>\n      <th>loudness</th>\n      <th>mode</th>\n      <th>speechiness</th>\n      <th>acousticness</th>\n      <th>instrumentalness</th>\n      <th>liveness</th>\n      <th>valence</th>\n      <th>tempo</th>\n      <th>time_signature</th>\n      <th>genre_id</th>\n      <th>artists_id</th>\n    </tr>\n  </thead>\n  <tbody>\n    <tr>\n      <th>count</th>\n      <td>114000.000000</td>\n      <td>114000.000000</td>\n      <td>1.140000e+05</td>\n      <td>114000.000000</td>\n      <td>114000.000000</td>\n      <td>114000.000000</td>\n      <td>114000.000000</td>\n      <td>114000.000000</td>\n      <td>114000.000000</td>\n      <td>114000.000000</td>\n      <td>114000.000000</td>\n      <td>114000.000000</td>\n      <td>114000.000000</td>\n      <td>114000.000000</td>\n      <td>114000.000000</td>\n      <td>114000.000000</td>\n      <td>1.140000e+05</td>\n    </tr>\n    <tr>\n      <th>mean</th>\n      <td>56999.500000</td>\n      <td>33.238535</td>\n      <td>2.280292e+05</td>\n      <td>0.566800</td>\n      <td>0.641383</td>\n      <td>5.309140</td>\n      <td>-8.258960</td>\n      <td>0.637553</td>\n      <td>0.084652</td>\n      <td>0.314910</td>\n      <td>0.156050</td>\n      <td>0.213553</td>\n      <td>0.474068</td>\n      <td>122.147837</td>\n      <td>3.904035</td>\n      <td>56.500000</td>\n      <td>5.034422e+07</td>\n    </tr>\n    <tr>\n      <th>std</th>\n      <td>32909.109681</td>\n      <td>22.305078</td>\n      <td>1.072977e+05</td>\n      <td>0.173542</td>\n      <td>0.251529</td>\n      <td>3.559987</td>\n      <td>5.029337</td>\n      <td>0.480709</td>\n      <td>0.105732</td>\n      <td>0.332523</td>\n      <td>0.309555</td>\n      <td>0.190378</td>\n      <td>0.259261</td>\n      <td>29.978197</td>\n      <td>0.432621</td>\n      <td>32.907844</td>\n      <td>2.866328e+07</td>\n    </tr>\n    <tr>\n      <th>min</th>\n      <td>0.000000</td>\n      <td>0.000000</td>\n      <td>0.000000e+00</td>\n      <td>0.000000</td>\n      <td>0.000000</td>\n      <td>0.000000</td>\n      <td>-49.531000</td>\n      <td>0.000000</td>\n      <td>0.000000</td>\n      <td>0.000000</td>\n      <td>0.000000</td>\n      <td>0.000000</td>\n      <td>0.000000</td>\n      <td>0.000000</td>\n      <td>0.000000</td>\n      <td>0.000000</td>\n      <td>1.148500e+04</td>\n    </tr>\n    <tr>\n      <th>25%</th>\n      <td>28499.750000</td>\n      <td>17.000000</td>\n      <td>1.740660e+05</td>\n      <td>0.456000</td>\n      <td>0.472000</td>\n      <td>2.000000</td>\n      <td>-10.013000</td>\n      <td>0.000000</td>\n      <td>0.035900</td>\n      <td>0.016900</td>\n      <td>0.000000</td>\n      <td>0.098000</td>\n      <td>0.260000</td>\n      <td>99.218750</td>\n      <td>4.000000</td>\n      <td>28.000000</td>\n      <td>2.565050e+07</td>\n    </tr>\n    <tr>\n      <th>50%</th>\n      <td>56999.500000</td>\n      <td>35.000000</td>\n      <td>2.129060e+05</td>\n      <td>0.580000</td>\n      <td>0.685000</td>\n      <td>5.000000</td>\n      <td>-7.004000</td>\n      <td>1.000000</td>\n      <td>0.048900</td>\n      <td>0.169000</td>\n      <td>0.000042</td>\n      <td>0.132000</td>\n      <td>0.464000</td>\n      <td>122.017000</td>\n      <td>4.000000</td>\n      <td>56.500000</td>\n      <td>4.995879e+07</td>\n    </tr>\n    <tr>\n      <th>75%</th>\n      <td>85499.250000</td>\n      <td>50.000000</td>\n      <td>2.615060e+05</td>\n      <td>0.695000</td>\n      <td>0.854000</td>\n      <td>8.000000</td>\n      <td>-5.003000</td>\n      <td>1.000000</td>\n      <td>0.084500</td>\n      <td>0.598000</td>\n      <td>0.049000</td>\n      <td>0.273000</td>\n      <td>0.683000</td>\n      <td>140.071000</td>\n      <td>4.000000</td>\n      <td>85.000000</td>\n      <td>7.594484e+07</td>\n    </tr>\n    <tr>\n      <th>max</th>\n      <td>113999.000000</td>\n      <td>100.000000</td>\n      <td>5.237295e+06</td>\n      <td>0.985000</td>\n      <td>1.000000</td>\n      <td>11.000000</td>\n      <td>4.532000</td>\n      <td>1.000000</td>\n      <td>0.965000</td>\n      <td>0.996000</td>\n      <td>1.000000</td>\n      <td>1.000000</td>\n      <td>0.995000</td>\n      <td>243.372000</td>\n      <td>5.000000</td>\n      <td>113.000000</td>\n      <td>9.999973e+07</td>\n    </tr>\n  </tbody>\n</table>\n</div>"
     },
     "execution_count": 3,
     "metadata": {},
     "output_type": "execute_result"
    }
   ],
   "source": [
    "data.describe()"
   ],
   "metadata": {
    "collapsed": false,
    "ExecuteTime": {
     "end_time": "2023-05-28T15:04:45.520890200Z",
     "start_time": "2023-05-28T15:04:45.418175800Z"
    }
   }
  },
  {
   "cell_type": "code",
   "execution_count": 4,
   "metadata": {
    "ExecuteTime": {
     "end_time": "2023-05-28T15:04:45.737858400Z",
     "start_time": "2023-05-28T15:04:45.524865500Z"
    }
   },
   "outputs": [],
   "source": [
    "columns = ['duration_ms', 'explicit', 'danceability', 'energy', 'key', 'loudness', 'mode',\n",
    "           'speechiness', 'acousticness', 'instrumentalness', 'liveness', 'valence', 'tempo', 'genre_id',\n",
    "           'time_signature', 'artists_id']\n",
    "\n",
    "layerThiccness = len(columns) * 2\n",
    "\n",
    "# Podział danych na zbiór treningowy i testowy\n",
    "train_data, test_data, train_labels, test_labels = train_test_split(\n",
    "    data[columns], data['popularity'], test_size=0.2)\n",
    "\n",
    "train_data = tf.convert_to_tensor(train_data, dtype=tf.float32)\n",
    "test_data = tf.convert_to_tensor(test_data, dtype=tf.float32)\n",
    "train_labels = tf.convert_to_tensor(train_labels, dtype=tf.float32)\n",
    "test_labels = tf.convert_to_tensor(test_labels, dtype=tf.float32)"
   ]
  },
  {
   "cell_type": "code",
   "execution_count": 5,
   "outputs": [],
   "source": [
    "# Normalization\n",
    "\n",
    "mean = train_data.numpy().mean(axis=0)\n",
    "std = train_data.numpy().std(axis=0)\n",
    "train_data = (train_data - mean) / std\n",
    "test_data = (test_data - mean) / std"
   ],
   "metadata": {
    "collapsed": false,
    "ExecuteTime": {
     "end_time": "2023-05-28T15:04:45.801632100Z",
     "start_time": "2023-05-28T15:04:45.744858100Z"
    }
   }
  },
  {
   "cell_type": "code",
   "execution_count": 8,
   "outputs": [],
   "source": [
    "model = tf.keras.Sequential([\n",
    "    tf.keras.layers.Dropout(0.2, input_shape=[len(columns)]),\n",
    "    tf.keras.layers.Dense(layerThiccness + 1, activation='relu'),\n",
    "    tf.keras.layers.Dropout(0.2),\n",
    "    tf.keras.layers.Dense(layerThiccness, activation='relu'),\n",
    "    tf.keras.layers.Dropout(0.2),\n",
    "    tf.keras.layers.Dense(layerThiccness, activation='relu'),\n",
    "    tf.keras.layers.Dropout(0.2),\n",
    "    tf.keras.layers.Dense(layerThiccness, activation='relu'),\n",
    "    tf.keras.layers.Dropout(0.2),\n",
    "    tf.keras.layers.Dense(layerThiccness, activation='relu'),\n",
    "    tf.keras.layers.Dropout(0.2),\n",
    "    tf.keras.layers.Dense(layerThiccness, activation='relu'),\n",
    "    tf.keras.layers.Dropout(0.2),\n",
    "    tf.keras.layers.Dense(layerThiccness, activation='relu'),\n",
    "    tf.keras.layers.Dropout(0.2),\n",
    "    tf.keras.layers.Dense(layerThiccness, activation='relu'),\n",
    "    tf.keras.layers.Dropout(0.2),\n",
    "    tf.keras.layers.Dense(layerThiccness, activation='relu'),\n",
    "    tf.keras.layers.Dropout(0.2),\n",
    "    tf.keras.layers.Dense(layerThiccness, activation='relu'),\n",
    "    tf.keras.layers.Dropout(0.2),\n",
    "    tf.keras.layers.Dense(layerThiccness, activation='relu'),\n",
    "    tf.keras.layers.Dropout(0.2),\n",
    "    tf.keras.layers.Dense(layerThiccness, activation='relu'),\n",
    "    tf.keras.layers.Dropout(0.2),\n",
    "    tf.keras.layers.Dense(layerThiccness, activation='relu'),\n",
    "    tf.keras.layers.Dropout(0.2),\n",
    "    tf.keras.layers.Dense(layerThiccness, activation='relu'),\n",
    "    tf.keras.layers.Dropout(0.2),\n",
    "    tf.keras.layers.Dense(layerThiccness, activation='relu'),\n",
    "    tf.keras.layers.Dropout(0.2),\n",
    "    tf.keras.layers.Dense(layerThiccness / 2, activation='relu'),\n",
    "    tf.keras.layers.Dropout(0.2),\n",
    "    tf.keras.layers.Dense(1)\n",
    "])\n",
    "\n",
    "model.compile(loss='mean_squared_error',\n",
    "              optimizer=tf.keras.optimizers.RMSprop(0.001),\n",
    "              metrics=['mae', 'mse'])"
   ],
   "metadata": {
    "collapsed": false,
    "ExecuteTime": {
     "end_time": "2023-05-28T15:11:59.336798100Z",
     "start_time": "2023-05-28T15:11:59.028894500Z"
    }
   }
  },
  {
   "cell_type": "code",
   "execution_count": 9,
   "outputs": [],
   "source": [
    "# Trenowanie modelu\n",
    "history = model.fit(train_data, train_labels, epochs=100, validation_split=0.2, verbose=0)"
   ],
   "metadata": {
    "collapsed": false,
    "ExecuteTime": {
     "end_time": "2023-05-28T15:29:48.414241Z",
     "start_time": "2023-05-28T15:12:04.804807800Z"
    }
   }
  },
  {
   "cell_type": "code",
   "execution_count": 10,
   "outputs": [],
   "source": [
    "test_results = model.evaluate(test_data, test_labels, verbose=0)\n",
    "test_mae = test_results[1]"
   ],
   "metadata": {
    "collapsed": false,
    "ExecuteTime": {
     "end_time": "2023-05-28T15:32:46.740579500Z",
     "start_time": "2023-05-28T15:32:44.475113Z"
    }
   }
  },
  {
   "cell_type": "code",
   "execution_count": 11,
   "outputs": [
    {
     "name": "stdout",
     "output_type": "stream",
     "text": [
      "Mean Absolute Error: 17.87493133544922\n"
     ]
    },
    {
     "data": {
      "text/plain": "<Figure size 640x480 with 1 Axes>",
      "image/png": "[encoded data removed]"
     },
     "metadata": {},
     "output_type": "display_data"
    }
   ],
   "source": [
    "# Wykres\n",
    "plt.plot(history.history['mae'])\n",
    "plt.plot(history.history['val_mae'])\n",
    "plt.title('Mean Absolute Error')\n",
    "plt.ylabel('MAE')\n",
    "plt.xlabel('Epoch')\n",
    "plt.legend(['Training', 'Validation'], loc='upper right')\n",
    "plt.ylim(top=30)\n",
    "plt.ylim(bottom=0)\n",
    "print(\"Mean Absolute Error:\", test_mae)\n",
    "plt.show()"
   ],
   "metadata": {
    "collapsed": false,
    "ExecuteTime": {
     "end_time": "2023-05-28T15:32:49.390830900Z",
     "start_time": "2023-05-28T15:32:49.044285200Z"
    }
   }
  }
 ],
 "metadata": {
  "kernelspec": {
   "display_name": "Python 3 (ipykernel)",
   "language": "python",
   "name": "python3"
  },
  "language_info": {
   "codemirror_mode": {
    "name": "ipython",
    "version": 3
   },
   "file_extension": ".py",
   "mimetype": "text/x-python",
   "name": "python",
   "nbconvert_exporter": "python",
   "pygments_lexer": "ipython3",
   "version": "3.10.10"
  }
 },
 "nbformat": 4,
 "nbformat_minor": 1
}
